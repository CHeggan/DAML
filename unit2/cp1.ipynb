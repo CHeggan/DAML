{
 "cells": [
  {
   "cell_type": "markdown",
   "metadata": {},
   "source": [
    "# Checkpoint 1: Data science tools and decision trees\n",
    "---\n",
    "*Responsible:* Andreas Sogaard (<andreas.sogaard@ed.ac.uk>)\n",
    "\n",
    "### Notes on the Dataset\n",
    "* You will be using weather observation data from the UK Met Office Datapoint service\n",
    "* Ground observations are made hourly at weather stations across the length of the UK \n",
    "* The data sample covers data from June this year\n",
    "* Data collections for each day starts at 6.30pm. All observation data is listed in one day blocks\n",
    "* The time value column refers to the number of minutes after midnight \n",
    "* `Null` values for some features are expected (e.g. Wind Gust)\n",
    "* Data import and preparation is already provided \n",
    "\n",
    "### Notes on the Assessment\n",
    "* Try and calculate the answers provided. If you are unable to complete the question, describe which approach you _would_ have taken to solve the problem\n",
    "* Code must be understandable and reproducible. Before grading the notebook kernel _**may**_ be **restarted** and **re-run**\n",
    "* If you are unsure on how to proceed please reference the two companion notebooks for relevant examples, or **ask one of the TAs**\n",
    "\n",
    "### Notes on solution\n",
    "* This CP exercise sheet is divided into three sections, corresponding to parts of the lecture, giving 10 marks in total:\n",
    "  - Data science tools (Exs. 1–7; 4 Marks)\n",
    "  - Visualisation (Exs. 8–10; 3 marks)\n",
    "  - Decision tree classification + ensemble methods (Exs. 11–14; 3 marks)\n",
    "* Exercises 1-6 can be solved with one line of code while still being legible. _(That's not a weird flex, nor required for full marks, just letting you know that if you find yourself with a 20-line long solution, it can probably be done in a simpler way.)_\n",
    "* The following `pandas.DataFrame` functions may be useful: `head`, `describe`, `loc`, `query`, `unique`, `sort_values`, `group_by`, `apply`."
   ]
  },
  {
   "cell_type": "markdown",
   "metadata": {},
   "source": [
    "## Preamble\n",
    "---"
   ]
  },
  {
   "cell_type": "code",
   "execution_count": 1,
   "metadata": {},
   "outputs": [
    {
     "name": "stderr",
     "output_type": "stream",
     "text": [
      "c:\\users\\calum\\appdata\\local\\programs\\python\\python37\\lib\\site-packages\\tensorflow\\python\\framework\\dtypes.py:516: FutureWarning: Passing (type, 1) or '1type' as a synonym of type is deprecated; in a future version of numpy, it will be understood as (type, (1,)) / '(1,)type'.\n",
      "  _np_qint8 = np.dtype([(\"qint8\", np.int8, 1)])\n",
      "c:\\users\\calum\\appdata\\local\\programs\\python\\python37\\lib\\site-packages\\tensorflow\\python\\framework\\dtypes.py:517: FutureWarning: Passing (type, 1) or '1type' as a synonym of type is deprecated; in a future version of numpy, it will be understood as (type, (1,)) / '(1,)type'.\n",
      "  _np_quint8 = np.dtype([(\"quint8\", np.uint8, 1)])\n",
      "c:\\users\\calum\\appdata\\local\\programs\\python\\python37\\lib\\site-packages\\tensorflow\\python\\framework\\dtypes.py:518: FutureWarning: Passing (type, 1) or '1type' as a synonym of type is deprecated; in a future version of numpy, it will be understood as (type, (1,)) / '(1,)type'.\n",
      "  _np_qint16 = np.dtype([(\"qint16\", np.int16, 1)])\n",
      "c:\\users\\calum\\appdata\\local\\programs\\python\\python37\\lib\\site-packages\\tensorflow\\python\\framework\\dtypes.py:519: FutureWarning: Passing (type, 1) or '1type' as a synonym of type is deprecated; in a future version of numpy, it will be understood as (type, (1,)) / '(1,)type'.\n",
      "  _np_quint16 = np.dtype([(\"quint16\", np.uint16, 1)])\n",
      "c:\\users\\calum\\appdata\\local\\programs\\python\\python37\\lib\\site-packages\\tensorflow\\python\\framework\\dtypes.py:520: FutureWarning: Passing (type, 1) or '1type' as a synonym of type is deprecated; in a future version of numpy, it will be understood as (type, (1,)) / '(1,)type'.\n",
      "  _np_qint32 = np.dtype([(\"qint32\", np.int32, 1)])\n",
      "c:\\users\\calum\\appdata\\local\\programs\\python\\python37\\lib\\site-packages\\tensorflow\\python\\framework\\dtypes.py:525: FutureWarning: Passing (type, 1) or '1type' as a synonym of type is deprecated; in a future version of numpy, it will be understood as (type, (1,)) / '(1,)type'.\n",
      "  np_resource = np.dtype([(\"resource\", np.ubyte, 1)])\n",
      "c:\\users\\calum\\appdata\\local\\programs\\python\\python37\\lib\\site-packages\\tensorboard\\compat\\tensorflow_stub\\dtypes.py:541: FutureWarning: Passing (type, 1) or '1type' as a synonym of type is deprecated; in a future version of numpy, it will be understood as (type, (1,)) / '(1,)type'.\n",
      "  _np_qint8 = np.dtype([(\"qint8\", np.int8, 1)])\n",
      "c:\\users\\calum\\appdata\\local\\programs\\python\\python37\\lib\\site-packages\\tensorboard\\compat\\tensorflow_stub\\dtypes.py:542: FutureWarning: Passing (type, 1) or '1type' as a synonym of type is deprecated; in a future version of numpy, it will be understood as (type, (1,)) / '(1,)type'.\n",
      "  _np_quint8 = np.dtype([(\"quint8\", np.uint8, 1)])\n",
      "c:\\users\\calum\\appdata\\local\\programs\\python\\python37\\lib\\site-packages\\tensorboard\\compat\\tensorflow_stub\\dtypes.py:543: FutureWarning: Passing (type, 1) or '1type' as a synonym of type is deprecated; in a future version of numpy, it will be understood as (type, (1,)) / '(1,)type'.\n",
      "  _np_qint16 = np.dtype([(\"qint16\", np.int16, 1)])\n",
      "c:\\users\\calum\\appdata\\local\\programs\\python\\python37\\lib\\site-packages\\tensorboard\\compat\\tensorflow_stub\\dtypes.py:544: FutureWarning: Passing (type, 1) or '1type' as a synonym of type is deprecated; in a future version of numpy, it will be understood as (type, (1,)) / '(1,)type'.\n",
      "  _np_quint16 = np.dtype([(\"quint16\", np.uint16, 1)])\n",
      "c:\\users\\calum\\appdata\\local\\programs\\python\\python37\\lib\\site-packages\\tensorboard\\compat\\tensorflow_stub\\dtypes.py:545: FutureWarning: Passing (type, 1) or '1type' as a synonym of type is deprecated; in a future version of numpy, it will be understood as (type, (1,)) / '(1,)type'.\n",
      "  _np_qint32 = np.dtype([(\"qint32\", np.int32, 1)])\n",
      "c:\\users\\calum\\appdata\\local\\programs\\python\\python37\\lib\\site-packages\\tensorboard\\compat\\tensorflow_stub\\dtypes.py:550: FutureWarning: Passing (type, 1) or '1type' as a synonym of type is deprecated; in a future version of numpy, it will be understood as (type, (1,)) / '(1,)type'.\n",
      "  np_resource = np.dtype([(\"resource\", np.ubyte, 1)])\n"
     ]
    },
    {
     "name": "stdout",
     "output_type": "stream",
     "text": [
      "Making reproducible with seed 21. Please not that running in parallel (e.g. by setting `n_jobs > 1` in certain scikit-learn functions) breaks reproducibility.\n"
     ]
    }
   ],
   "source": [
    "# Custom import(s)\n",
    "from daml import plot, utilities\n",
    "\n",
    "# Make notebook as reproducible as possible\n",
    "utilities.make_reproducible(21)"
   ]
  },
  {
   "cell_type": "code",
   "execution_count": 2,
   "metadata": {},
   "outputs": [],
   "source": [
    "# Standard import(s)\n",
    "import pandas as pd\n",
    "import numpy as np\n",
    "import matplotlib.pyplot as plt\n",
    "from scipy import stats\n",
    "\n",
    "%matplotlib inline"
   ]
  },
  {
   "cell_type": "code",
   "execution_count": 3,
   "metadata": {},
   "outputs": [
    {
     "name": "stderr",
     "output_type": "stream",
     "text": [
      "! was unexpected at this time.\n"
     ]
    }
   ],
   "source": [
    "# Make sure that the data file has been downloaded\n",
    "! if [ ! -f weather.csv ]; then { wget -O weather.csv https://cernbox.cern.ch/index.php/s/qGDDdg1HniDXpM3/download; }; else { ls -l weather.csv; }; fi "
   ]
  },
  {
   "cell_type": "code",
   "execution_count": 115,
   "metadata": {
    "scrolled": true
   },
   "outputs": [
    {
     "data": {
      "text/html": [
       "<div>\n",
       "<style scoped>\n",
       "    .dataframe tbody tr th:only-of-type {\n",
       "        vertical-align: middle;\n",
       "    }\n",
       "\n",
       "    .dataframe tbody tr th {\n",
       "        vertical-align: top;\n",
       "    }\n",
       "\n",
       "    .dataframe thead th {\n",
       "        text-align: right;\n",
       "    }\n",
       "</style>\n",
       "<table border=\"1\" class=\"dataframe\">\n",
       "  <thead>\n",
       "    <tr style=\"text-align: right;\">\n",
       "      <th></th>\n",
       "      <th>StationID</th>\n",
       "      <th>StationName</th>\n",
       "      <th>Elevation</th>\n",
       "      <th>Latitude</th>\n",
       "      <th>Longitude</th>\n",
       "      <th>Date</th>\n",
       "      <th>Time</th>\n",
       "      <th>Gust</th>\n",
       "      <th>Temperature</th>\n",
       "      <th>Visibility</th>\n",
       "      <th>WindDirection</th>\n",
       "      <th>WindSpeed</th>\n",
       "      <th>Pressure</th>\n",
       "      <th>PressureTrend</th>\n",
       "      <th>DewPoint</th>\n",
       "      <th>Humidity</th>\n",
       "      <th>Type</th>\n",
       "    </tr>\n",
       "  </thead>\n",
       "  <tbody>\n",
       "    <tr>\n",
       "      <td>0</td>\n",
       "      <td>3002</td>\n",
       "      <td>BALTASOUND</td>\n",
       "      <td>15.0</td>\n",
       "      <td>60.749</td>\n",
       "      <td>-0.854</td>\n",
       "      <td>2018-05-31</td>\n",
       "      <td>1020</td>\n",
       "      <td>NaN</td>\n",
       "      <td>16.1</td>\n",
       "      <td>30000.0</td>\n",
       "      <td>E</td>\n",
       "      <td>8.0</td>\n",
       "      <td>1019.0</td>\n",
       "      <td>F</td>\n",
       "      <td>11.6</td>\n",
       "      <td>74.5</td>\n",
       "      <td>0</td>\n",
       "    </tr>\n",
       "    <tr>\n",
       "      <td>1</td>\n",
       "      <td>3002</td>\n",
       "      <td>BALTASOUND</td>\n",
       "      <td>15.0</td>\n",
       "      <td>60.749</td>\n",
       "      <td>-0.854</td>\n",
       "      <td>2018-05-31</td>\n",
       "      <td>1080</td>\n",
       "      <td>NaN</td>\n",
       "      <td>14.9</td>\n",
       "      <td>22000.0</td>\n",
       "      <td>E</td>\n",
       "      <td>8.0</td>\n",
       "      <td>1019.0</td>\n",
       "      <td>F</td>\n",
       "      <td>11.8</td>\n",
       "      <td>81.5</td>\n",
       "      <td>0</td>\n",
       "    </tr>\n",
       "    <tr>\n",
       "      <td>2</td>\n",
       "      <td>3002</td>\n",
       "      <td>BALTASOUND</td>\n",
       "      <td>15.0</td>\n",
       "      <td>60.749</td>\n",
       "      <td>-0.854</td>\n",
       "      <td>2018-05-31</td>\n",
       "      <td>1140</td>\n",
       "      <td>NaN</td>\n",
       "      <td>14.0</td>\n",
       "      <td>14000.0</td>\n",
       "      <td>E</td>\n",
       "      <td>6.0</td>\n",
       "      <td>1018.0</td>\n",
       "      <td>F</td>\n",
       "      <td>11.6</td>\n",
       "      <td>85.4</td>\n",
       "      <td>0</td>\n",
       "    </tr>\n",
       "    <tr>\n",
       "      <td>3</td>\n",
       "      <td>3002</td>\n",
       "      <td>BALTASOUND</td>\n",
       "      <td>15.0</td>\n",
       "      <td>60.749</td>\n",
       "      <td>-0.854</td>\n",
       "      <td>2018-05-31</td>\n",
       "      <td>1200</td>\n",
       "      <td>NaN</td>\n",
       "      <td>12.9</td>\n",
       "      <td>12000.0</td>\n",
       "      <td>ENE</td>\n",
       "      <td>2.0</td>\n",
       "      <td>1019.0</td>\n",
       "      <td>R</td>\n",
       "      <td>11.0</td>\n",
       "      <td>88.1</td>\n",
       "      <td>0</td>\n",
       "    </tr>\n",
       "    <tr>\n",
       "      <td>4</td>\n",
       "      <td>3002</td>\n",
       "      <td>BALTASOUND</td>\n",
       "      <td>15.0</td>\n",
       "      <td>60.749</td>\n",
       "      <td>-0.854</td>\n",
       "      <td>2018-05-31</td>\n",
       "      <td>1260</td>\n",
       "      <td>NaN</td>\n",
       "      <td>12.0</td>\n",
       "      <td>9000.0</td>\n",
       "      <td>E</td>\n",
       "      <td>2.0</td>\n",
       "      <td>1019.0</td>\n",
       "      <td>R</td>\n",
       "      <td>10.9</td>\n",
       "      <td>92.9</td>\n",
       "      <td>1</td>\n",
       "    </tr>\n",
       "  </tbody>\n",
       "</table>\n",
       "</div>"
      ],
      "text/plain": [
       "   StationID StationName  Elevation  Latitude  Longitude        Date  Time  \\\n",
       "0       3002  BALTASOUND       15.0    60.749     -0.854  2018-05-31  1020   \n",
       "1       3002  BALTASOUND       15.0    60.749     -0.854  2018-05-31  1080   \n",
       "2       3002  BALTASOUND       15.0    60.749     -0.854  2018-05-31  1140   \n",
       "3       3002  BALTASOUND       15.0    60.749     -0.854  2018-05-31  1200   \n",
       "4       3002  BALTASOUND       15.0    60.749     -0.854  2018-05-31  1260   \n",
       "\n",
       "   Gust  Temperature  Visibility WindDirection  WindSpeed  Pressure  \\\n",
       "0   NaN         16.1     30000.0             E        8.0    1019.0   \n",
       "1   NaN         14.9     22000.0             E        8.0    1019.0   \n",
       "2   NaN         14.0     14000.0             E        6.0    1018.0   \n",
       "3   NaN         12.9     12000.0           ENE        2.0    1019.0   \n",
       "4   NaN         12.0      9000.0             E        2.0    1019.0   \n",
       "\n",
       "  PressureTrend  DewPoint  Humidity  Type  \n",
       "0             F      11.6      74.5     0  \n",
       "1             F      11.8      81.5     0  \n",
       "2             F      11.6      85.4     0  \n",
       "3             R      11.0      88.1     0  \n",
       "4             R      10.9      92.9     1  "
      ]
     },
     "execution_count": 115,
     "metadata": {},
     "output_type": "execute_result"
    }
   ],
   "source": [
    "# Load in the prepared weather data\n",
    "obs = pd.read_csv('weather.csv')\n",
    "obs.head()"
   ]
  },
  {
   "cell_type": "code",
   "execution_count": 116,
   "metadata": {},
   "outputs": [],
   "source": [
    "# Drop duplicate measurements -- makes sense in this case, since measurements \n",
    "# with identical rows would imply identical dates and times, which *is* indeed\n",
    "# pathological.\n",
    "obs = obs.drop_duplicates()"
   ]
  },
  {
   "cell_type": "markdown",
   "metadata": {},
   "source": [
    "## Data science tools (4 Marks)\n",
    "---\n",
    "This section covers 7 exercises on data handling using `pandas.DataFrames`."
   ]
  },
  {
   "cell_type": "markdown",
   "metadata": {},
   "source": [
    "#### 1. How many observations have been collected and how many features are listed per observation? **(0.5 Mark)**"
   ]
  },
  {
   "cell_type": "code",
   "execution_count": 118,
   "metadata": {},
   "outputs": [
    {
     "name": "stdout",
     "output_type": "stream",
     "text": [
      "Observations: 102475\n",
      "Features: 17\n"
     ]
    }
   ],
   "source": [
    "print('Observations: {}'.format(obs.shape[0]))\n",
    "print('Features: {}'.format(obs.shape[1]))"
   ]
  },
  {
   "cell_type": "markdown",
   "metadata": {},
   "source": [
    "#### 2. What are the names of the two observation stations above 60 degrees latitude? **(0.5 Mark)**"
   ]
  },
  {
   "cell_type": "markdown",
   "metadata": {},
   "source": [
    "_Hints:_\n",
    "1. Find the measurements with latitude above 60 degrees\n",
    "2. Find the station names for these measurements\n",
    "3. Find the unique such station names"
   ]
  },
  {
   "cell_type": "code",
   "execution_count": 7,
   "metadata": {},
   "outputs": [
    {
     "name": "stdout",
     "output_type": "stream",
     "text": [
      "BALTASOUND\n",
      "LERWICK_(S._SCREEN)\n"
     ]
    }
   ],
   "source": [
    "filtered_obs = obs[obs['Latitude']>60]\n",
    "names = filtered_obs.StationName.unique()\n",
    "for i in names:\n",
    "    print(i)"
   ]
  },
  {
   "cell_type": "markdown",
   "metadata": {},
   "source": [
    "#### 3. Where and when was the *hottest* temperature recorded in this month? **(0.5 Mark)**"
   ]
  },
  {
   "cell_type": "markdown",
   "metadata": {},
   "source": [
    "_Hints:_\n",
    "1. Sort the rows by temperature\n",
    "2. Show only the relevant columns\n",
    "3. Show the first 5 rows"
   ]
  },
  {
   "cell_type": "code",
   "execution_count": 164,
   "metadata": {
    "scrolled": true
   },
   "outputs": [
    {
     "data": {
      "text/html": [
       "<div>\n",
       "<style scoped>\n",
       "    .dataframe tbody tr th:only-of-type {\n",
       "        vertical-align: middle;\n",
       "    }\n",
       "\n",
       "    .dataframe tbody tr th {\n",
       "        vertical-align: top;\n",
       "    }\n",
       "\n",
       "    .dataframe thead th {\n",
       "        text-align: right;\n",
       "    }\n",
       "</style>\n",
       "<table border=\"1\" class=\"dataframe\">\n",
       "  <thead>\n",
       "    <tr style=\"text-align: right;\">\n",
       "      <th></th>\n",
       "      <th>StationName</th>\n",
       "      <th>Temperature</th>\n",
       "      <th>Date</th>\n",
       "    </tr>\n",
       "  </thead>\n",
       "  <tbody>\n",
       "    <tr>\n",
       "      <td>96489</td>\n",
       "      <td>GLASGOW/BISHOPTON</td>\n",
       "      <td>31.6</td>\n",
       "      <td>2018-06-28</td>\n",
       "    </tr>\n",
       "    <tr>\n",
       "      <td>96488</td>\n",
       "      <td>GLASGOW/BISHOPTON</td>\n",
       "      <td>31.3</td>\n",
       "      <td>2018-06-28</td>\n",
       "    </tr>\n",
       "    <tr>\n",
       "      <td>96490</td>\n",
       "      <td>GLASGOW/BISHOPTON</td>\n",
       "      <td>31.3</td>\n",
       "      <td>2018-06-28</td>\n",
       "    </tr>\n",
       "    <tr>\n",
       "      <td>92608</td>\n",
       "      <td>AVIEMORE</td>\n",
       "      <td>31.0</td>\n",
       "      <td>2018-06-27</td>\n",
       "    </tr>\n",
       "    <tr>\n",
       "      <td>96487</td>\n",
       "      <td>GLASGOW/BISHOPTON</td>\n",
       "      <td>30.7</td>\n",
       "      <td>2018-06-28</td>\n",
       "    </tr>\n",
       "  </tbody>\n",
       "</table>\n",
       "</div>"
      ],
      "text/plain": [
       "             StationName  Temperature        Date\n",
       "96489  GLASGOW/BISHOPTON         31.6  2018-06-28\n",
       "96488  GLASGOW/BISHOPTON         31.3  2018-06-28\n",
       "96490  GLASGOW/BISHOPTON         31.3  2018-06-28\n",
       "92608           AVIEMORE         31.0  2018-06-27\n",
       "96487  GLASGOW/BISHOPTON         30.7  2018-06-28"
      ]
     },
     "execution_count": 164,
     "metadata": {},
     "output_type": "execute_result"
    }
   ],
   "source": [
    "hottest = obs.sort_values('Temperature', ascending = False)\n",
    "reduced_col = hottest.filter(['StationName','Temperature','Date'])\n",
    "pd.DataFrame.head(reduced_col,5)"
   ]
  },
  {
   "cell_type": "markdown",
   "metadata": {},
   "source": [
    "\n",
    "#### 4. Where and when was the *coldest* temperature recorded in this month? **(0.5 Mark)**"
   ]
  },
  {
   "cell_type": "code",
   "execution_count": 10,
   "metadata": {},
   "outputs": [
    {
     "data": {
      "text/html": [
       "<div>\n",
       "<style scoped>\n",
       "    .dataframe tbody tr th:only-of-type {\n",
       "        vertical-align: middle;\n",
       "    }\n",
       "\n",
       "    .dataframe tbody tr th {\n",
       "        vertical-align: top;\n",
       "    }\n",
       "\n",
       "    .dataframe thead th {\n",
       "        text-align: right;\n",
       "    }\n",
       "</style>\n",
       "<table border=\"1\" class=\"dataframe\">\n",
       "  <thead>\n",
       "    <tr style=\"text-align: right;\">\n",
       "      <th></th>\n",
       "      <th>StationName</th>\n",
       "      <th>Temperature</th>\n",
       "    </tr>\n",
       "  </thead>\n",
       "  <tbody>\n",
       "    <tr>\n",
       "      <td>71403</td>\n",
       "      <td>CAIRN_GORM_SUMMIT</td>\n",
       "      <td>-1.2</td>\n",
       "    </tr>\n",
       "    <tr>\n",
       "      <td>71405</td>\n",
       "      <td>CAIRN_GORM_SUMMIT</td>\n",
       "      <td>-0.7</td>\n",
       "    </tr>\n",
       "    <tr>\n",
       "      <td>71406</td>\n",
       "      <td>CAIRN_GORM_SUMMIT</td>\n",
       "      <td>-0.7</td>\n",
       "    </tr>\n",
       "    <tr>\n",
       "      <td>71402</td>\n",
       "      <td>CAIRN_GORM_SUMMIT</td>\n",
       "      <td>-0.6</td>\n",
       "    </tr>\n",
       "    <tr>\n",
       "      <td>64337</td>\n",
       "      <td>CAIRN_GORM_SUMMIT</td>\n",
       "      <td>-0.4</td>\n",
       "    </tr>\n",
       "  </tbody>\n",
       "</table>\n",
       "</div>"
      ],
      "text/plain": [
       "             StationName  Temperature\n",
       "71403  CAIRN_GORM_SUMMIT         -1.2\n",
       "71405  CAIRN_GORM_SUMMIT         -0.7\n",
       "71406  CAIRN_GORM_SUMMIT         -0.7\n",
       "71402  CAIRN_GORM_SUMMIT         -0.6\n",
       "64337  CAIRN_GORM_SUMMIT         -0.4"
      ]
     },
     "execution_count": 10,
     "metadata": {},
     "output_type": "execute_result"
    }
   ],
   "source": [
    "coldest = obs.sort_values('Temperature', ascending = True)\n",
    "reduced_2 = coldest.filter(['StationName','Temperature'])\n",
    "pd.DataFrame.head(reduced_2,5)"
   ]
  },
  {
   "cell_type": "markdown",
   "metadata": {},
   "source": [
    "#### 5. Where has the greatest range in temperature on the 15th June? **(0.5 Mark)**"
   ]
  },
  {
   "cell_type": "markdown",
   "metadata": {},
   "source": [
    "_Hints:_\n",
    "1. Select only rows for the date in question.\n",
    "2. Group the data by station name\n",
    "3. Get the temperature column\n",
    "4. Get the difference between the maximal and the minimal temperature\n",
    "5. Sort the differences\n",
    "6. Show the first 5 rows"
   ]
  },
  {
   "cell_type": "code",
   "execution_count": 75,
   "metadata": {},
   "outputs": [
    {
     "data": {
      "text/html": [
       "<div>\n",
       "<style scoped>\n",
       "    .dataframe tbody tr th:only-of-type {\n",
       "        vertical-align: middle;\n",
       "    }\n",
       "\n",
       "    .dataframe tbody tr th {\n",
       "        vertical-align: top;\n",
       "    }\n",
       "\n",
       "    .dataframe thead th {\n",
       "        text-align: right;\n",
       "    }\n",
       "</style>\n",
       "<table border=\"1\" class=\"dataframe\">\n",
       "  <thead>\n",
       "    <tr style=\"text-align: right;\">\n",
       "      <th></th>\n",
       "      <th>Temp Difference</th>\n",
       "    </tr>\n",
       "  </thead>\n",
       "  <tbody>\n",
       "    <tr>\n",
       "      <td>BENSON</td>\n",
       "      <td>15.0</td>\n",
       "    </tr>\n",
       "    <tr>\n",
       "      <td>WOBURN</td>\n",
       "      <td>14.4</td>\n",
       "    </tr>\n",
       "    <tr>\n",
       "      <td>FARNBOROUGH</td>\n",
       "      <td>14.0</td>\n",
       "    </tr>\n",
       "    <tr>\n",
       "      <td>CHARLWOOD</td>\n",
       "      <td>13.3</td>\n",
       "    </tr>\n",
       "    <tr>\n",
       "      <td>HOLBEACH</td>\n",
       "      <td>12.7</td>\n",
       "    </tr>\n",
       "  </tbody>\n",
       "</table>\n",
       "</div>"
      ],
      "text/plain": [
       "             Temp Difference\n",
       "BENSON                  15.0\n",
       "WOBURN                  14.4\n",
       "FARNBOROUGH             14.0\n",
       "CHARLWOOD               13.3\n",
       "HOLBEACH                12.7"
      ]
     },
     "execution_count": 75,
     "metadata": {},
     "output_type": "execute_result"
    }
   ],
   "source": [
    "june = obs[obs['Date']=='2018-06-15']\n",
    "pd.DataFrame.head(june,100)\n",
    "\n",
    "diff = []\n",
    "stations = []\n",
    "for i in june.StationName.unique():\n",
    "    new_df = june[june['StationName']==i]\n",
    "    maxValue = new_df['Temperature'].max()\n",
    "    minValue = new_df['Temperature'].min()\n",
    "    stations.append(i)\n",
    "    diff.append(maxValue-minValue)\n",
    "    \n",
    "    \n",
    "diff_df = pd.DataFrame(diff,stations,columns = ['Temp Difference'])\n",
    "final = diff_df.sort_values('Temp Difference',ascending = False)\n",
    "pd.DataFrame.head(final,5)\n",
    "\n",
    "    "
   ]
  },
  {
   "cell_type": "markdown",
   "metadata": {},
   "source": [
    "#### 6. Get the mean temperature for each station over the entire month, and find the mean and standard deviation of this distribution **(0.5 Mark)**"
   ]
  },
  {
   "cell_type": "code",
   "execution_count": 240,
   "metadata": {},
   "outputs": [
    {
     "name": "stdout",
     "output_type": "stream",
     "text": [
      "Mean of Distribution: 14.85\n",
      "Standard Deviation: 1.81\n"
     ]
    }
   ],
   "source": [
    "import statistics \n",
    "\n",
    "stations = []\n",
    "means = []\n",
    "\n",
    "for i in obs.StationName.unique():\n",
    "    station = obs[obs['StationName']==i]\n",
    "    temp = station['Temperature']\n",
    "    mean = temp.mean()\n",
    "    stations.append(i)\n",
    "    means.append(mean)\n",
    "    \n",
    "mean_dist = sum(means)/len(means)\n",
    "std = statistics.stdev(means) \n",
    "\n",
    "df = pd.DataFrame(stations,means)\n",
    "\n",
    "print('Mean of Distribution: {}'.format(round(mean_dist,2)))\n",
    "print('Standard Deviation: {}'.format(round(std,2)))\n",
    "    \n",
    "\n",
    "\n"
   ]
  },
  {
   "cell_type": "markdown",
   "metadata": {},
   "source": [
    "#### 7. Prepare a smaller `pandas.DataFrame` for visualisation and classification (see instructions below; 1 Mark)\n",
    "\n",
    "In the next sections, on decision trees and ensemble methods, we will try to classify the weather type --- \"clear\", \"cloudy\", and \"precipitation\" --- based on a subset of the available features:"
   ]
  },
  {
   "cell_type": "code",
   "execution_count": 197,
   "metadata": {},
   "outputs": [],
   "source": [
    "# define data and features\n",
    "features = ['WindSpeed', 'Temperature', 'Humidity', 'Elevation']\n",
    "output   = ['Type']\n",
    "wtype    = ['Clear', 'Cloudy', 'Precip']  # Corresponding to Type == 0, 1, and 2, resp.\n",
    "features.append('Type')"
   ]
  },
  {
   "cell_type": "markdown",
   "metadata": {},
   "source": [
    "Therefore,\n",
    "* create a `pandas.DataFrame`, called `dataset`, which contains only the desired features and the target variable; \n",
    "* drop duplicates and NaN-values; \n",
    "* remove all rows which have `Type == 3` (_i.e._ which aren't of either of the three types of weather that we want to classify);\n",
    "* add a new column called `Class` containing the named weather type, _i.e._ from the options in `wtype`, corresponding  to the value in the `Type` column;\n",
    "* shuffle the dataframe;\n",
    "* from `dataset`, create a new `pandas.DataFrame` called `sample`, containing 50 examples of each type of weather;\n",
    "* from `sample`, extract numpy arrays for the inputs (called `X`) and target (called `y`); \n",
    "* flatten `y`; and\n",
    "* check their shapes to make sure they look alright."
   ]
  },
  {
   "cell_type": "code",
   "execution_count": 204,
   "metadata": {
    "scrolled": true
   },
   "outputs": [
    {
     "name": "stdout",
     "output_type": "stream",
     "text": [
      "         Class  Elevation  Humidity  Temperature Type  WindSpeed\n",
      "99154    Clear      156.0      56.8         22.6    0        2.0\n",
      "91074    Clear      204.0      76.7         17.3    0        5.0\n",
      "42248    Clear       84.0      78.2         17.4    0       11.0\n",
      "106181   Clear       84.0      50.0         19.4    0       21.0\n",
      "81311    Clear       52.0      44.8         21.5    0        6.0\n",
      "...        ...        ...       ...          ...  ...        ...\n",
      "37129   Precip        7.0      75.7         17.4    2       10.0\n",
      "46183   Precip       15.0      99.3         10.8    2       19.0\n",
      "42873   Precip       81.0      76.0         12.6    2       13.0\n",
      "4595    Precip      227.0      96.2         15.7    2        5.0\n",
      "13376   Precip       54.0     100.0         11.7    2       10.0\n",
      "\n",
      "[150 rows x 6 columns]\n"
     ]
    },
    {
     "data": {
      "text/plain": [
       "(150, 6)"
      ]
     },
     "execution_count": 204,
     "metadata": {},
     "output_type": "execute_result"
    }
   ],
   "source": [
    "dataset = obs[features]\n",
    "pd.DataFrame.head(dataset)\n",
    "\n",
    "dataset = dataset[dataset['Type']!=3]\n",
    "\n",
    "Class = []\n",
    "for i in dataset['Type']:\n",
    "    if i ==0:\n",
    "        Class.append('Clear')\n",
    "    if i ==1:\n",
    "        Class.append('Cloudy')\n",
    "    if i ==2:\n",
    "        Class.append('Precip')\n",
    "\n",
    "dataset['Class'] = pd.Series(Class, index=dataset.index)\n",
    "\n",
    "sample = pd.DataFrame(columns = features)\n",
    "for i in wtype:\n",
    "    new_df = dataset[dataset['Class']==i]\n",
    "    a = new_df.sample(n=50)\n",
    "    sample = sample.append(a)\n",
    "print(sample)\n",
    "\n",
    "sample.shape\n",
    "    \n",
    "    \n",
    "        \n"
   ]
  },
  {
   "cell_type": "markdown",
   "metadata": {},
   "source": [
    "## Visualisation (3 Marks)\n",
    "---\n",
    "This section covers 3 exercises on visualisation using `matplotlib.pyplot`. Please complete the first two exercises in this section without the use of the provided plotting methods in `daml/plot.py`."
   ]
  },
  {
   "cell_type": "markdown",
   "metadata": {},
   "source": [
    "#### 8. Make a histogram of the average temperature, across the entire month, for each station, categorised by the three weather types considered (1 Mark)\n",
    "\n",
    "First, we'll define a new `pandas.DataFrame` containing the mean temperature for each station over the entire month, categorised by weather type, for the three weather types considered; much like in Exercise 0, just with an added categorisation by `Type`. "
   ]
  },
  {
   "cell_type": "code",
   "execution_count": 205,
   "metadata": {},
   "outputs": [
    {
     "data": {
      "text/html": [
       "<div>\n",
       "<style scoped>\n",
       "    .dataframe tbody tr th:only-of-type {\n",
       "        vertical-align: middle;\n",
       "    }\n",
       "\n",
       "    .dataframe tbody tr th {\n",
       "        vertical-align: top;\n",
       "    }\n",
       "\n",
       "    .dataframe thead th {\n",
       "        text-align: right;\n",
       "    }\n",
       "</style>\n",
       "<table border=\"1\" class=\"dataframe\">\n",
       "  <thead>\n",
       "    <tr style=\"text-align: right;\">\n",
       "      <th></th>\n",
       "      <th>Type</th>\n",
       "      <th>StationName</th>\n",
       "      <th>Temperature</th>\n",
       "    </tr>\n",
       "  </thead>\n",
       "  <tbody>\n",
       "    <tr>\n",
       "      <td>0</td>\n",
       "      <td>0</td>\n",
       "      <td>ABERDARON</td>\n",
       "      <td>16.178061</td>\n",
       "    </tr>\n",
       "    <tr>\n",
       "      <td>1</td>\n",
       "      <td>0</td>\n",
       "      <td>ABERDEEN_AIRPORT</td>\n",
       "      <td>14.956250</td>\n",
       "    </tr>\n",
       "    <tr>\n",
       "      <td>2</td>\n",
       "      <td>0</td>\n",
       "      <td>ABERPORTH</td>\n",
       "      <td>16.550974</td>\n",
       "    </tr>\n",
       "    <tr>\n",
       "      <td>3</td>\n",
       "      <td>0</td>\n",
       "      <td>ABOYNE</td>\n",
       "      <td>16.175325</td>\n",
       "    </tr>\n",
       "    <tr>\n",
       "      <td>4</td>\n",
       "      <td>0</td>\n",
       "      <td>ALBEMARLE</td>\n",
       "      <td>15.163025</td>\n",
       "    </tr>\n",
       "  </tbody>\n",
       "</table>\n",
       "</div>"
      ],
      "text/plain": [
       "   Type       StationName  Temperature\n",
       "0     0         ABERDARON    16.178061\n",
       "1     0  ABERDEEN_AIRPORT    14.956250\n",
       "2     0         ABERPORTH    16.550974\n",
       "3     0            ABOYNE    16.175325\n",
       "4     0         ALBEMARLE    15.163025"
      ]
     },
     "execution_count": 205,
     "metadata": {},
     "output_type": "execute_result"
    }
   ],
   "source": [
    "group = obs.query('Type < 3').groupby(['Type', 'StationName']).Temperature.mean().reset_index()\n",
    "group.head()"
   ]
  },
  {
   "cell_type": "markdown",
   "metadata": {},
   "source": [
    "* Choose appropriate binning, e.g. using `np.linspace`, and use same binning for all three histograms.\n",
    "* Loop over the unique, considered weather types.\n",
    "* Make the histograms using the `plt.hist` method.\n",
    "* Make the distributions legible, either by setting the opacity (`alpha=...`) or by using an unfilled histogram (`histtype='step'`).\n",
    "* Label both axes, including units.\n",
    "* Include a legend for the three weather types.\n",
    "* Discuss the figure."
   ]
  },
  {
   "cell_type": "code",
   "execution_count": 231,
   "metadata": {
    "scrolled": true
   },
   "outputs": [
    {
     "data": {
      "image/png": "[encoded data removed]",
      "text/plain": [
       "<Figure size 432x288 with 1 Axes>"
      ]
     },
     "metadata": {
      "needs_background": "light"
     },
     "output_type": "display_data"
    }
   ],
   "source": [
    "for i in group.Type.unique():\n",
    "    to_plot = group[group['Type']==i]\n",
    "    plt.hist(to_plot['Temperature'],bins = np.linspace(8,20,20),alpha = 0.6,histtype = 'step')\n",
    "    \n",
    "plt.xlabel('Temperature')\n",
    "plt.ylabel('Frequency')\n",
    "plt.legend([wtype[0],wtype[1],wtype[2]])\n",
    "plt.show()\n"
   ]
  },
  {
   "cell_type": "markdown",
   "metadata": {},
   "source": [
    "#### 9. Make a scatter plot of the average temperature and the average wind speed, across the entire month, for each station, categorised by the three weather types considered (1 Mark)\n",
    "\n",
    "* Define a new `pandas.DataFrame` analogously to the one in Exercise 8, which includes wind speed in addition to temperature.\n",
    "* Loop over the unique, considered weather types.\n",
    "* Make the scatter plots using the `plt.scatter` method.\n",
    "* Consider changing the opacity to make the plot more legible.\n",
    "* Label both axes, including units.\n",
    "* Include a legend for the three weather types.\n",
    "* Discuss the figure."
   ]
  },
  {
   "cell_type": "code",
   "execution_count": 243,
   "metadata": {},
   "outputs": [
    {
     "data": {
      "text/html": [
       "<div>\n",
       "<style scoped>\n",
       "    .dataframe tbody tr th:only-of-type {\n",
       "        vertical-align: middle;\n",
       "    }\n",
       "\n",
       "    .dataframe tbody tr th {\n",
       "        vertical-align: top;\n",
       "    }\n",
       "\n",
       "    .dataframe thead th {\n",
       "        text-align: right;\n",
       "    }\n",
       "</style>\n",
       "<table border=\"1\" class=\"dataframe\">\n",
       "  <thead>\n",
       "    <tr style=\"text-align: right;\">\n",
       "      <th></th>\n",
       "      <th>Type</th>\n",
       "      <th>StationName</th>\n",
       "      <th>Temperature</th>\n",
       "      <th>WindSpeed</th>\n",
       "    </tr>\n",
       "  </thead>\n",
       "  <tbody>\n",
       "    <tr>\n",
       "      <td>0</td>\n",
       "      <td>0</td>\n",
       "      <td>ABERDARON</td>\n",
       "      <td>16.178061</td>\n",
       "      <td>10.196931</td>\n",
       "    </tr>\n",
       "    <tr>\n",
       "      <td>1</td>\n",
       "      <td>0</td>\n",
       "      <td>ABERDEEN_AIRPORT</td>\n",
       "      <td>14.956250</td>\n",
       "      <td>7.729167</td>\n",
       "    </tr>\n",
       "    <tr>\n",
       "      <td>2</td>\n",
       "      <td>0</td>\n",
       "      <td>ABERPORTH</td>\n",
       "      <td>16.550974</td>\n",
       "      <td>6.775974</td>\n",
       "    </tr>\n",
       "    <tr>\n",
       "      <td>3</td>\n",
       "      <td>0</td>\n",
       "      <td>ABOYNE</td>\n",
       "      <td>16.175325</td>\n",
       "      <td>7.238095</td>\n",
       "    </tr>\n",
       "    <tr>\n",
       "      <td>4</td>\n",
       "      <td>0</td>\n",
       "      <td>ALBEMARLE</td>\n",
       "      <td>15.163025</td>\n",
       "      <td>6.962185</td>\n",
       "    </tr>\n",
       "  </tbody>\n",
       "</table>\n",
       "</div>"
      ],
      "text/plain": [
       "   Type       StationName  Temperature  WindSpeed\n",
       "0     0         ABERDARON    16.178061  10.196931\n",
       "1     0  ABERDEEN_AIRPORT    14.956250   7.729167\n",
       "2     0         ABERPORTH    16.550974   6.775974\n",
       "3     0            ABOYNE    16.175325   7.238095\n",
       "4     0         ALBEMARLE    15.163025   6.962185"
      ]
     },
     "execution_count": 243,
     "metadata": {},
     "output_type": "execute_result"
    }
   ],
   "source": [
    "group1 = obs.query('Type < 3').groupby(['Type', 'StationName']).Temperature.mean().reset_index()\n",
    "group2 = obs.query('Type < 3').groupby(['Type', 'StationName']).WindSpeed.mean().reset_index()\n",
    "\n",
    "windspeed = group2['WindSpeed']\n",
    "group1['WindSpeed'] = windspeed\n",
    "group1.head()\n",
    "\n",
    "\n"
   ]
  },
  {
   "cell_type": "markdown",
   "metadata": {},
   "source": [
    "#### 10. Make a grid plot of all feature histograms and pair-wise scatter plot combinations for the 4 features used (1 Mark)\n",
    "* Use the `plot.pair_grid` method to study the features in `sample`, defined in Exercise 7. The methods accepts either a `pandas.DataFrame` and a string (target column name) as its first two arguments; or two numpy arrays (feature array and target vector)."
   ]
  },
  {
   "cell_type": "code",
   "execution_count": null,
   "metadata": {},
   "outputs": [],
   "source": []
  },
  {
   "cell_type": "markdown",
   "metadata": {},
   "source": [
    "## Decision tree classification (3 Marks)\n",
    "---\n",
    "This section covers 4 exercises on the use and understanding of (boosted) decision trees."
   ]
  },
  {
   "cell_type": "markdown",
   "metadata": {},
   "source": [
    "#### 11. Fit a decision tree classifier (1 Mark)\n",
    "\n",
    "* Fit an `sklearn.tree.DecisionTreeClassifier` to the feature array `X` and target array `y` defined in Exercise 7. \n",
    "  - Set the maximum tree depth to 4.\n",
    "  - Leave the remaining parameters at their default values.\n",
    "* Make plots of all pairs of features in the fitted dataset using the `plot.pair_grid` method (see Exercise 10), and overlay the decision contour of the classifier by specifying the `clf=...` argument. Use either the `Type` or `Class` column as the `target=...` argument.\n",
    "* Discuss the characteristics of this type of machine learning model, and how they are evident in the plot."
   ]
  },
  {
   "cell_type": "code",
   "execution_count": null,
   "metadata": {},
   "outputs": [],
   "source": []
  },
  {
   "cell_type": "markdown",
   "metadata": {},
   "source": [
    "#### 12. Illustrate the decision tree classifier logic (1 Mark)\n",
    "\n",
    "* Use the `plot.tree` method to show the learned logic of the decision tree classifier in Exercise 11.\n",
    "* Discuss the results: Do the results look reasonable? Can you identy any potential problems with the classifier? How can they be mitigated?\n",
    "\n",
    "_Hint:_ See `lecture2.ipynb`."
   ]
  },
  {
   "cell_type": "code",
   "execution_count": null,
   "metadata": {},
   "outputs": [],
   "source": []
  },
  {
   "cell_type": "markdown",
   "metadata": {},
   "source": [
    "#### 13. Fit an AdaBoost classifier (0.5 Mark)\n",
    "\n",
    "* Fit an `sklearn.ensemble.AdaBoostClassifier` to the feature array `X` and target array `y` defined in Exercise 7. \n",
    "  - Set the maximum tree depth to 4.\n",
    "  - Set the number of estimators to 30.\n",
    "  - Leave the remaining parameters at their default values.\n",
    "* Make plots of all pairs of features in the fitted dataset using the `plot.pair_grid` method (see Exercise 10), and overlay the decision contour of the classifier by specifying the `clf=...` argument. Use either the `Type` or `Class` column as the `target=...` argument.\n",
    "* Discuss the characteristics of this type of machine learning model, and how they are evident in the plot."
   ]
  },
  {
   "cell_type": "code",
   "execution_count": null,
   "metadata": {
    "scrolled": false
   },
   "outputs": [],
   "source": []
  },
  {
   "cell_type": "markdown",
   "metadata": {},
   "source": [
    "#### 14. Fit a random forst classifier (0.5 Mark)\n",
    "\n",
    "* Fit an `sklearn.ensemble.RandomForestClassifier` to the feature array `X` and target array `y` defined in Exercise 7. \n",
    "  - Set the maximum tree depth to 4.\n",
    "  - Set the number of estimators to 30.\n",
    "  - Leave the remaining parameters at their default values.\n",
    "* Make plots of all pairs of features in the fitted dataset using the `plot.pair_grid` method (see Exercise 10), and overlay the decision contour of the classifier by specifying the `clf=...` argument. Use either the `Type` or `Class` column as the `target=...` argument.\n",
    "* Discuss the characteristics of this type of machine learning model, and how they are evident in the plot."
   ]
  },
  {
   "cell_type": "code",
   "execution_count": null,
   "metadata": {},
   "outputs": [],
   "source": []
  }
 ],
 "metadata": {
  "kernelspec": {
   "display_name": "Python 3",
   "language": "python",
   "name": "python3"
  },
  "language_info": {
   "codemirror_mode": {
    "name": "ipython",
    "version": 3
   },
   "file_extension": ".py",
   "mimetype": "text/x-python",
   "name": "python",
   "nbconvert_exporter": "python",
   "pygments_lexer": "ipython3",
   "version": "3.7.0"
  }
 },
 "nbformat": 4,
 "nbformat_minor": 2
}
