{
 "cells": [
  {
   "cell_type": "markdown",
   "metadata": {},
   "source": [
    "# Project 2"
   ]
  },
  {
   "cell_type": "markdown",
   "metadata": {},
   "source": [
    "## Base Information"
   ]
  },
  {
   "cell_type": "markdown",
   "metadata": {},
   "source": [
    "Our PDF has a form: $$P\\left(t ; V, \\tau, \\Delta m_{s}\\right) \\propto(1+V \\sin (\\Delta m t)) \\times \\exp (-t / \\tau)$$\n",
    "with:\n",
    " - t is the observable quantity - the decay time of each decay\n",
    " - $\\tau$ is a lifetime parameter\n",
    " - V is a parameter which measures matter/anti-matter asymmetry and has the value zero if\n",
    "the universe is symmetric (which we know it isnt !)\n",
    " - ∆m is a mass difference parameter which leads to sinusoidal oscillations superimposed on\n",
    "the exponential decay\n"
   ]
  },
  {
   "cell_type": "markdown",
   "metadata": {},
   "source": [
    "Values of our Parameters:\n",
    " - $\\tau$ = 1.5\n",
    " - V = 0.1\n",
    " - ∆m = 20.0"
   ]
  },
  {
   "cell_type": "markdown",
   "metadata": {},
   "source": [
    "## Imports"
   ]
  },
  {
   "cell_type": "code",
   "execution_count": 1,
   "metadata": {},
   "outputs": [],
   "source": [
    "import math\n",
    "import numpy as np\n",
    "import pandas as pd\n",
    "import seaborn as sns\n",
    "from iminuit import Minuit\n",
    "import matplotlib.pyplot as plt\n",
    "from scipy.integrate import quad"
   ]
  },
  {
   "cell_type": "markdown",
   "metadata": {},
   "source": [
    "## Main PDF Class"
   ]
  },
  {
   "cell_type": "code",
   "execution_count": 2,
   "metadata": {},
   "outputs": [],
   "source": [
    "#Class for out pdf with required methods, we have parameters = lifetime, asymm and mass difference\n",
    "\n",
    "class PDF:\n",
    "    def __init__(self, params, limits, analytic = True):\n",
    "        self.data = []\n",
    "        self.limits = limits    \n",
    "        self.setParams(params)\n",
    "        self.fmax = self.evaluate(limits[0]) + 0.5 #Since decaying func, max in a range is always first value\n",
    "        self.integrator = self.setIntegrator(analytic) # Calls the setting function for integration\n",
    "        \n",
    "    #Allows us to switch for the quad integration(slow) to analytical(faster) using an argument\n",
    "    def setIntegrator(self, analytic):\n",
    "        if analytic == False:\n",
    "            return self.QuadIntegrator\n",
    "        else:\n",
    "            return self.AnalyticIntegrator\n",
    "        \n",
    "    def setParams(self, params):\n",
    "        self.tau = params[0]\n",
    "        self.v = params[1]\n",
    "        self.m = params[2]\n",
    "        \n",
    "    #Integrtaes our evaluation function with the scipy.quad module\n",
    "    def QuadIntegrator(self):\n",
    "        integral = quad(self.evaluate, self.limits[0], self.limits[1])[0]\n",
    "        return integral\n",
    "    \n",
    "    #Integrates out evaluation function using the analytic solution to the integral with limits 0 and infinity\n",
    "    def AnalyticIntegrator(self):\n",
    "        part1 = self.tau + ((self.m*self.v)/(self.m**2 + 1/(self.tau**2)))\n",
    "        return part1\n",
    "    \n",
    "    #Random box to generate data of the PDF\n",
    "    def next(self):\n",
    "        while True:\n",
    "            x1 = np.random.uniform(0,1)\n",
    "            x1 = self.limits[0] + (self.limits[1]-self.limits[0])*x1\n",
    "            y1 = self.evaluate(x1)\n",
    "            y2 = np.random.uniform(0,1)\n",
    "            y2 = self.fmax*y2\n",
    "            if(y2<y1):\n",
    "                self.data.append(x1)\n",
    "                return x1\n",
    "            \n",
    "    #Evaluation function for passed data\n",
    "    def evaluate(self, x):\n",
    "        value = ( 1 + self.v* math.sin( x*self.m) ) * ( math.exp( -x / self.tau ) )\n",
    "        return value\n",
    "    \n",
    "    #Normalised evaluation function for passed data\n",
    "    def evalNorm(self, x):\n",
    "        value = self.evaluate(x)\n",
    "        integral = self.integrator()\n",
    "        return value/integral\n",
    "    "
   ]
  },
  {
   "cell_type": "markdown",
   "metadata": {},
   "source": [
    "## Negative Log Likelihood Class"
   ]
  },
  {
   "cell_type": "code",
   "execution_count": 3,
   "metadata": {},
   "outputs": [],
   "source": [
    "#Objective function class for minimisation\n",
    "class NLL():\n",
    "    def __init__(self, data, function):\n",
    "        self.data = data\n",
    "        self.function = function\n",
    "    \n",
    "    def setParams(self, params):\n",
    "        self.function.setParams(params)\n",
    "        \n",
    "    def evaluate(self):\n",
    "        nll = 0.0\n",
    "        for i in range(len(self.data)):\n",
    "            prob = self.function.evalNorm(self.data[i])\n",
    "            if prob<0: prob = 0.00000000001\n",
    "            self.prob = prob\n",
    "            logP = math.log(prob)\n",
    "            nll += logP\n",
    "        return -nll"
   ]
  },
  {
   "cell_type": "markdown",
   "metadata": {},
   "source": [
    "## Plotting Function\n",
    " - Generailsed plotting function\n",
    " - Takes set limits, a pdf class if available\n",
    " - If no pdf, the function just plots the data in a standard histogram\n",
    " - If a pdf class is provided, the data is plotted with a fit overlay determined by the most recently stored param values in the class."
   ]
  },
  {
   "cell_type": "code",
   "execution_count": 4,
   "metadata": {},
   "outputs": [],
   "source": [
    "def plotting(data, pdf = None, bins = 100, limits = [0, 10]):\n",
    "    if pdf == None:\n",
    "        plt.hist(data, bins, range = limits, density = True)\n",
    "        plt.xlabel('Decay Time')\n",
    "        plt.ylabel('Counts')\n",
    "        plt.title('Generated Data')\n",
    "        plt.show()\n",
    "        \n",
    "    else:\n",
    "        y = []\n",
    "        x = np.linspace(limits[0], limits[1], bins)\n",
    "        #Finds y values of pdf equation using equally seperated x points\n",
    "        for i in x:\n",
    "            y.append(pdf.evalNorm(i))\n",
    "        plt.plot(x, y)\n",
    "        #Plots a normalised histogram\n",
    "        plt.hist(data, bins, range = limits, density = True)\n",
    "        plt.xlabel('Decay Time')\n",
    "        plt.ylabel('Counts')\n",
    "        plt.title('Fit Overlay on Data')\n",
    "        plt.show()\n"
   ]
  },
  {
   "cell_type": "markdown",
   "metadata": {},
   "source": [
    "## Data Generation\n",
    " - Generates data using a provided pdf\n",
    " - The pdf provided must be given a list of suitable parameters, these are predefined as they are the same all way thorughout, however can be changed if needed/passed in as a new argument\n",
    " - The limits for this pdf in theory should be between 0 and infinity, using infinity isnt reasonable here. A very high value means that on average we are not going to find values that represnt the pdf. That is why the limit here is set to 200. It represents a value where the exp portion of the pdf essentially drives the function to 0 however also not too large that few data points created are part of the pdf.\n",
    " - Takes n as an argument for number of datapoints wanted in the dataset"
   ]
  },
  {
   "cell_type": "code",
   "execution_count": 5,
   "metadata": {},
   "outputs": [],
   "source": [
    "def dataGen(n, pdf_of_choice, params = [1.5, 0.1, 20.0], limits = [0, 200], plot = False):\n",
    "    pdf = pdf_of_choice(params, limits)\n",
    "    data = []\n",
    "    for i in range(n):\n",
    "        data.append(pdf.next())\n",
    "    #By default doesnt plot the generated data but can if wanted\n",
    "    if plot == True:\n",
    "        #pdf isnt given so will only plot the data and not a fit\n",
    "        plotting(data)\n",
    "    return data"
   ]
  },
  {
   "cell_type": "markdown",
   "metadata": {},
   "source": [
    "## Fitting Functions"
   ]
  },
  {
   "cell_type": "code",
   "execution_count": 6,
   "metadata": {},
   "outputs": [],
   "source": [
    "#Our objective function for minuit\n",
    "def evalPDF(tau, v, m):\n",
    "    nll.setParams([tau, v, m])\n",
    "    result = nll.evaluate()\n",
    "    return result\n",
    "\n",
    "#Generalised fitting function. Has similar arguments for as pregious discussed functions\n",
    "def fit(pdf_class, data, dictParams, listParams, objFunc, limits = [0,200], plot = True, analytic = True):\n",
    "    global nll\n",
    "    pdf = pdf_class(listParams, limits, analytic)\n",
    "    nll = NLL(data, pdf)\n",
    "    \n",
    "    minObj = Minuit(objFunc, **dictParams, errordef = 1.)\n",
    "    \n",
    "    result = minObj.migrad()\n",
    "    outParams = minObj.values\n",
    "    fitErrors = minObj.errors\n",
    "    \n",
    "    #by default plots the fit data with the minimised params\n",
    "    if plot == True:\n",
    "        plotting(data, pdf)\n",
    "    #returns the fit params and errors\n",
    "    return outParams, fitErrors"
   ]
  },
  {
   "cell_type": "markdown",
   "metadata": {},
   "source": [
    "## Part 1\n",
    " - Measure expected statistical precision for the parameters with i)10,000 and ii)100,000 data point.\n",
    " - All the params/ errors and data are stored for later use in comparitive fitting etc \n",
    " - In a for loop:\n",
    "     - Create data of size i for out main pdf\n",
    "     - fits the data with some initial params\n",
    "     - Prints the results with their relevant statistical uncertainties\n",
    " - The initial params given to both fitting procedures is the same"
   ]
  },
  {
   "cell_type": "code",
   "execution_count": 7,
   "metadata": {},
   "outputs": [
    {
     "data": {
      "image/png": "[encoded data removed]",
      "text/plain": [
       "<Figure size 432x288 with 1 Axes>"
      ]
     },
     "metadata": {
      "needs_background": "light"
     },
     "output_type": "display_data"
    },
    {
     "name": "stdout",
     "output_type": "stream",
     "text": [
      "Param Values for 10000 datapoints::\n",
      "Tau: 1.505 +/- 0.021\n",
      "V: 0.116 +/- 0.020\n",
      "Delta M: 20.008 +/- 0.078\n",
      "\n",
      "\n"
     ]
    },
    {
     "data": {
      "image/png": "[encoded data removed]",
      "text/plain": [
       "<Figure size 432x288 with 1 Axes>"
      ]
     },
     "metadata": {
      "needs_background": "light"
     },
     "output_type": "display_data"
    },
    {
     "name": "stdout",
     "output_type": "stream",
     "text": [
      "Param Values for 100000 datapoints::\n",
      "Tau: 1.499 +/- 0.007\n",
      "V: 0.106 +/- 0.006\n",
      "Delta M: 20.009 +/- 0.028\n",
      "\n",
      "\n"
     ]
    }
   ],
   "source": [
    "allParams = []\n",
    "allErrors = []\n",
    "allData = []\n",
    "for i in [10000, 100000]:\n",
    "    data = dataGen(i, PDF)\n",
    "    minParams = {'tau':1.5, 'v':0.1, 'm':20.0, 'error_tau':0.1, 'error_v':0.1, 'error_m':0.1}\n",
    "    listParams = [1.5, 0.1, 20.0]\n",
    "    \n",
    "    outParams, outErrors = fit(PDF, data, minParams, listParams, evalPDF)\n",
    "    allData.append(data)\n",
    "    allParams.append(outParams)\n",
    "    allErrors.append(outErrors)\n",
    "    \n",
    "    print('Param Values for {} datapoints::'.format(i))\n",
    "    print('Tau: {:.3f} +/- {:.3f}'.format(outParams[0], outErrors[0]))\n",
    "    print('V: {:.3f} +/- {:.3f}'.format(outParams[1], outErrors[1]))\n",
    "    print('Delta M: {:.3f} +/- {:.3f}'.format(outParams[2], outErrors[2]))\n",
    "    print('\\n')"
   ]
  },
  {
   "cell_type": "markdown",
   "metadata": {},
   "source": [
    "### Discussion\n",
    " - For 10,000 Data Points we see that the fit parameters have fairly large uncertiaanities associated with them. This can be seen from the fact that the original 'real' values are only approximately a third $\\sigma$ from the fit parameters.\n",
    " - The 100,000 point data fitting returens much smaller parameter uncertainties, making each parameter within either one or two $\\sigma$ from the real values.\n",
    " - Takeaway: Using a larger number of datapoints reduces the statistical uncertainty associated with each of the fit parameters."
   ]
  },
  {
   "cell_type": "markdown",
   "metadata": {},
   "source": [
    "## Part 2"
   ]
  },
  {
   "cell_type": "markdown",
   "metadata": {},
   "source": [
    "### New PDFs for Data Creation\n",
    " - Here we create two new classes which inherit from our main PDF\n",
    " - These classes each draw their lifetime from gaussians with mean tau and width tau x 0.01 or width tau x 0.03\n",
    " - All functions other than evaluate do not have to be changed since we are only generating data and not fitting with these new pdfs."
   ]
  },
  {
   "cell_type": "code",
   "execution_count": 8,
   "metadata": {},
   "outputs": [],
   "source": [
    "#New classes inherit from the main PDF class with redefined evaliate functions for data generation\n",
    "class biasedPDF_1(PDF):\n",
    "    def evaluate(self, x):\n",
    "        self.f = 0.01\n",
    "        tau = np.random.normal(self.tau, self.tau * self.f)\n",
    "        value = ( 1 + self.v* math.sin( x*self.m) ) * ( math.exp( -x / tau ) )\n",
    "        return value\n",
    "    \n",
    "class biasedPDF_2(PDF):\n",
    "    def evaluate(self, x):\n",
    "        self.f = 0.03\n",
    "        tau = np.random.normal(self.tau, self.tau * self.f)\n",
    "        value = ( 1 + self.v* math.sin( x*self.m) ) * ( math.exp( -x / tau ) )\n",
    "        return value"
   ]
  },
  {
   "cell_type": "markdown",
   "metadata": {},
   "source": [
    "### Calculating Biases\n",
    " - We define bias as the shift seen in fit parameters between our original pdf and our new pdfs with a gaussian sampled tau\n",
    " - The error on the bias is the error on both of the pdfs paramaters combined in quadrature as the operation is subtraction(difference)"
   ]
  },
  {
   "cell_type": "code",
   "execution_count": 9,
   "metadata": {},
   "outputs": [
    {
     "name": "stdout",
     "output_type": "stream",
     "text": [
      "Bias Values for f = 0.01 datapoints::\n",
      "Tau: 0.014 +/- 0.030\n",
      "V: 0.001 +/- 0.028\n",
      "Delta M: 0.066 +/- 0.103\n",
      "\n",
      "\n",
      "Bias Values for f = 0.03 datapoints::\n",
      "Tau: 0.021 +/- 0.030\n",
      "V: 0.024 +/- 0.028\n",
      "Delta M: 0.102 +/- 0.149\n",
      "\n",
      "\n",
      "Errors on original data fitting with 10,000 points::\n",
      "Tau: +/- 0.021\n",
      "V:  +/- 0.020\n",
      "Delta M:  +/- 0.078\n",
      "\n",
      "\n"
     ]
    }
   ],
   "source": [
    "#First extract original stored params form part 1 as well as their respective errors\n",
    "regParams = allParams[0]\n",
    "regErrors = allErrors[0]\n",
    "\n",
    "#loops over both of the f values \n",
    "for i in [0.01, 0.03]:\n",
    "    #Uses the i to pick which pdf to generate data for\n",
    "    if i == 0.01:\n",
    "        biasedData = dataGen(10000, biasedPDF_1)\n",
    "    else:\n",
    "        biasedData = dataGen(10000, biasedPDF_2)\n",
    "    \n",
    "    #Fit with the same initial params \n",
    "    minParams = {'tau':1.5, 'v':0.1, 'm':20.0, 'error_tau':0.1, 'error_v':0.1, 'error_m':0.1}\n",
    "    listParams = [1.5, 0.1, 20.0]\n",
    "    newParams, newErrors = fit(PDF, biasedData, minParams, listParams, evalPDF, plot = False)\n",
    "    \n",
    "    #creates new lists to store bias and combined errors\n",
    "    biases = []\n",
    "    biasErrors = []\n",
    "    #Populates the new lists with bias values and errors on bias for each parameter\n",
    "    for j in range(len(newParams)):\n",
    "        #Calculates the absoluate value of the differences\n",
    "        biases.append(abs( newParams[j] - regParams[j] ))\n",
    "        #Combines the relevant errors from both the original pdf fits and the new pdf fits\n",
    "        biasErrors.append(math.sqrt(newErrors[j]**2 + regErrors[j]**2))\n",
    "    \n",
    "    #Print out results of bias and the errors on the bias for each param\n",
    "    print('Bias Values for f = {} datapoints::'.format(i))\n",
    "    print('Tau: {:.3f} +/- {:.3f}'.format(biases[0],biasErrors[0]))\n",
    "    print('V: {:.3f} +/- {:.3f}'.format(biases[1], biasErrors[1]))\n",
    "    print('Delta M: {:.3f} +/- {:.3f}'.format(biases[2], biasErrors[2]))\n",
    "    print('\\n')\n",
    "    \n",
    "print('Errors on original data fitting with 10,000 points::')\n",
    "print('Tau: +/- {:.3f}'.format(allErrors[0][0]))\n",
    "print('V:  +/- {:.3f}'.format(allErrors[0][1]))\n",
    "print('Delta M:  +/- {:.3f}'.format(allErrors[0][2]))\n",
    "print('\\n')"
   ]
  },
  {
   "cell_type": "markdown",
   "metadata": {},
   "source": [
    " - In this part we generate new data assuming that our tau is sampled form a gaussian with varying widths. We then fit the same original pdf to the new datasets and have worked out differneces in fit params as well as errors on these differences.\n",
    " - Comparing the bias values to the errors on the original parameter fitting procedure, we see that the maximum biases are all larger than the ranodm errors.\n",
    " - This means that the potential bias does not fall within what we calculated to be the random error on each parameter, suggesting that the bias is potentially significant."
   ]
  },
  {
   "cell_type": "markdown",
   "metadata": {},
   "source": [
    "## Part 3"
   ]
  },
  {
   "cell_type": "markdown",
   "metadata": {},
   "source": [
    "### New Fitting PDFs"
   ]
  },
  {
   "cell_type": "code",
   "execution_count": 10,
   "metadata": {},
   "outputs": [],
   "source": [
    "class high_s(PDF):\n",
    "    def evaluate(self, x):\n",
    "        value = ( 1 + self.v* math.sin( x*self.m) ) * ( math.exp( -x / self.tau ) )\n",
    "        acceptance = (1 + 0.03*x)\n",
    "        return value * acceptance\n",
    "    \n",
    "    def evalNorm(self,t):\n",
    "            y = self.evaluate(t)\n",
    "            norm1 = self.tau + ((self.v*self.m) / (self.m**2 + (1/self.tau)**2))\n",
    "            frac = (2*self.m*self.tau*self.v) / ((1 + self.m**2 * self.tau**2)**2)\n",
    "            norm2 = 0.03*self.tau**2 *(1+ frac)\n",
    "            norm = norm1 + norm2 \n",
    "            return y/norm\n",
    "    \n",
    "class low_s(PDF):\n",
    "    def evaluate(self, x):\n",
    "        value = ( 1 + self.v* math.sin( x*self.m) ) * ( math.exp( -x / self.tau ) )\n",
    "        acceptance = (1 - 0.03*x)\n",
    "        return value * acceptance\n",
    "    \n",
    "    def evalNorm(self,t):\n",
    "            y = self.evaluate(t)\n",
    "            norm1 = self.tau + ((self.v*self.m) / (self.m**2 + (1/self.tau)**2))\n",
    "            frac = (2*self.m*self.tau*self.v) / ((1 + self.m**2 * self.tau**2)**2)\n",
    "            norm2 = -0.03*self.tau**2 *(1+ frac)\n",
    "            norm = norm1 + norm2 \n",
    "            return y/norm"
   ]
  },
  {
   "cell_type": "code",
   "execution_count": 11,
   "metadata": {
    "scrolled": false
   },
   "outputs": [
    {
     "data": {
      "image/png": "[encoded data removed]",
      "text/plain": [
       "<Figure size 432x288 with 1 Axes>"
      ]
     },
     "metadata": {
      "needs_background": "light"
     },
     "output_type": "display_data"
    },
    {
     "name": "stdout",
     "output_type": "stream",
     "text": [
      "Param Values for low_s datapoints::\n",
      "Tau: 1.584 +/- 0.024\n",
      "V: 0.117 +/- 0.020\n",
      "Delta M: 20.008 +/- 0.078\n",
      "\n",
      "\n"
     ]
    },
    {
     "data": {
      "image/png": "[encoded data removed]",
      "text/plain": [
       "<Figure size 432x288 with 1 Axes>"
      ]
     },
     "metadata": {
      "needs_background": "light"
     },
     "output_type": "display_data"
    },
    {
     "name": "stdout",
     "output_type": "stream",
     "text": [
      "Param Values for high_s datapoints::\n",
      "Tau: 1.445 +/- 0.020\n",
      "V: 0.117 +/- 0.020\n",
      "Delta M: 20.008 +/- 0.078\n",
      "\n",
      "\n"
     ]
    }
   ],
   "source": [
    "OG_data = allData[0]\n",
    "accParams = []\n",
    "accErrors = []\n",
    "avgParams = []\n",
    "avgErrors = []\n",
    "\n",
    "for i in ['low_s', 'high_s']:\n",
    "    if i == 'low_s':\n",
    "        pdf_class = low_s\n",
    "    else:\n",
    "        pdf_class = high_s\n",
    "        \n",
    "    minParams = {'tau':1.5, 'v':0.1, 'm':20.0, 'error_tau':0.1, 'error_v':0.1, 'error_m':0.1}\n",
    "    listParams = [1.5, 0.1, 20.0]\n",
    "    outParams, outErrors = fit(pdf_class, OG_data, minParams, listParams, evalPDF, plot = True, analytic = True)\n",
    "    accParams.append(outParams)\n",
    "    accErrors.append(outErrors)\n",
    "    \n",
    "    print('Param Values for {} datapoints::'.format(i))\n",
    "    print('Tau: {:.3f} +/- {:.3f}'.format(outParams[0], outErrors[0]))\n",
    "    print('V: {:.3f} +/- {:.3f}'.format(outParams[1], outErrors[1]))\n",
    "    print('Delta M: {:.3f} +/- {:.3f}'.format(outParams[2], outErrors[2]))\n",
    "    print('\\n')"
   ]
  },
  {
   "cell_type": "code",
   "execution_count": 12,
   "metadata": {},
   "outputs": [
    {
     "name": "stdout",
     "output_type": "stream",
     "text": [
      "Systematic errors: \n",
      "Tau: 0.0695\n",
      "V: 0.0001\n",
      "Delta M: 0.0001 \n",
      "\n",
      "\n",
      "Statistical Errors: \n",
      "Tau: +/- 0.0213\n",
      "V:  +/- 0.0200\n",
      "Delta M:  +/- 0.0783\n",
      "\n",
      "\n"
     ]
    }
   ],
   "source": [
    "#finds the average differnce in params for the two modified pdfs\n",
    "avgShifts = []\n",
    "for i in range(len(accParams[0])):\n",
    "    low = abs(allParams[0][i] - accParams[0][i])\n",
    "    high = abs(allParams[0][i] - accParams[1][i])\n",
    "    avgShifts.append((low + high)/2)\n",
    "    \n",
    "print('Systematic errors: ')\n",
    "print('Tau: {:.4f}'.format(avgShifts[0]))\n",
    "print('V: {:.4f}'.format(avgShifts[1]))\n",
    "print('Delta M: {:.4f} '.format(avgShifts[2]))\n",
    "print('\\n')\n",
    "\n",
    "print('Statistical Errors: ')\n",
    "print('Tau: +/- {:.4f}'.format(allErrors[0][0]))\n",
    "print('V:  +/- {:.4f}'.format(allErrors[0][1]))\n",
    "print('Delta M:  +/- {:.4f}'.format(allErrors[0][2]))\n",
    "print('\\n')"
   ]
  },
  {
   "cell_type": "markdown",
   "metadata": {},
   "source": [
    "Comparing the systematic errors calculated using the acceptance time change to the original statistical errors calculation we see:\n",
    " - The systematic error for the lifetime is quite large in comparison to that of the statistical error.\n",
    " - Both the v and delta m parameters systematic errors are smaller than their statistical errors.\n",
    " - This means that the systematic error on tau is more impotrant whereas it may be said that the systematics on the other two params are less so."
   ]
  },
  {
   "cell_type": "code",
   "execution_count": null,
   "metadata": {},
   "outputs": [],
   "source": []
  }
 ],
 "metadata": {
  "kernelspec": {
   "display_name": "Python 3",
   "language": "python",
   "name": "python3"
  },
  "language_info": {
   "codemirror_mode": {
    "name": "ipython",
    "version": 3
   },
   "file_extension": ".py",
   "mimetype": "text/x-python",
   "name": "python",
   "nbconvert_exporter": "python",
   "pygments_lexer": "ipython3",
   "version": "3.7.5"
  }
 },
 "nbformat": 4,
 "nbformat_minor": 2
}
