{
 "cells": [
  {
   "cell_type": "code",
   "execution_count": 120,
   "metadata": {},
   "outputs": [],
   "source": [
    "import os\n",
    "import numpy as np \n",
    "import pandas as pd\n",
    "import matplotlib.pyplot as plt\n",
    "import seaborn as sns\n",
    "from mpctools.extensions import *\n",
    "from sklearn.cluster import KMeans\n",
    "from sklearn.dummy import DummyClassifier\n",
    "from sklearn.model_selection import train_test_split, StratifiedKFold, cross_val_predict\n",
    "from sklearn.linear_model import LogisticRegression\n",
    "from sklearn.metrics import confusion_matrix, adjusted_mutual_info_score, accuracy_score, f1_score, classification_report\n",
    "import warnings\n",
    "warnings.filterwarnings('ignore')"
   ]
  },
  {
   "cell_type": "markdown",
   "metadata": {},
   "source": [
    "# Part(a)"
   ]
  },
  {
   "cell_type": "markdown",
   "metadata": {},
   "source": [
    "#### Data Imports"
   ]
  },
  {
   "cell_type": "code",
   "execution_count": 2,
   "metadata": {},
   "outputs": [],
   "source": [
    "data_path_train = os.path.join(os.getcwd(), 'Data', 'PartA', '20ng_train.csv')\n",
    "ng_train = pd.read_csv(data_path_train, delimiter = ',', header = 0, compression = 'bz2')"
   ]
  },
  {
   "cell_type": "code",
   "execution_count": 3,
   "metadata": {},
   "outputs": [],
   "source": [
    "data_path_test = os.path.join(os.getcwd(), 'Data', 'PartA', '20ng_test.csv')\n",
    "ng_test = pd.read_csv(data_path_test, delimiter = ',', header = 0, compression = 'bz2')"
   ]
  },
  {
   "cell_type": "markdown",
   "metadata": {},
   "source": [
    "## 1.Exploratory Data Analysis "
   ]
  },
  {
   "cell_type": "markdown",
   "metadata": {},
   "source": [
    "##### Training Set"
   ]
  },
  {
   "cell_type": "code",
   "execution_count": 4,
   "metadata": {},
   "outputs": [
    {
     "name": "stdout",
     "output_type": "stream",
     "text": [
      "Nrows: 5648\n",
      "NCols: 1001\n",
      "[0 1 2 3 4 5 6 7]\n",
      "Number of classes: 8\n"
     ]
    },
    {
     "data": {
      "image/png": "[encoded data removed]",
      "text/plain": [
       "<Figure size 432x288 with 1 Axes>"
      ]
     },
     "metadata": {
      "needs_background": "light"
     },
     "output_type": "display_data"
    },
    {
     "data": {
      "text/html": [
       "<div>\n",
       "<style scoped>\n",
       "    .dataframe tbody tr th:only-of-type {\n",
       "        vertical-align: middle;\n",
       "    }\n",
       "\n",
       "    .dataframe tbody tr th {\n",
       "        vertical-align: top;\n",
       "    }\n",
       "\n",
       "    .dataframe thead th {\n",
       "        text-align: right;\n",
       "    }\n",
       "</style>\n",
       "<table border=\"1\" class=\"dataframe\">\n",
       "  <thead>\n",
       "    <tr style=\"text-align: right;\">\n",
       "      <th></th>\n",
       "      <th>__</th>\n",
       "      <th>ability</th>\n",
       "      <th>able</th>\n",
       "      <th>ac</th>\n",
       "      <th>accept</th>\n",
       "      <th>access</th>\n",
       "      <th>according</th>\n",
       "      <th>account</th>\n",
       "      <th>act</th>\n",
       "      <th>action</th>\n",
       "      <th>...</th>\n",
       "      <th>worth</th>\n",
       "      <th>wouldn</th>\n",
       "      <th>write</th>\n",
       "      <th>written</th>\n",
       "      <th>wrong</th>\n",
       "      <th>wrote</th>\n",
       "      <th>year</th>\n",
       "      <th>years</th>\n",
       "      <th>yes</th>\n",
       "      <th>class</th>\n",
       "    </tr>\n",
       "  </thead>\n",
       "  <tbody>\n",
       "    <tr>\n",
       "      <td>count</td>\n",
       "      <td>5648.000000</td>\n",
       "      <td>5648.000000</td>\n",
       "      <td>5648.000000</td>\n",
       "      <td>5648.000000</td>\n",
       "      <td>5648.000000</td>\n",
       "      <td>5648.000000</td>\n",
       "      <td>5648.000000</td>\n",
       "      <td>5648.000000</td>\n",
       "      <td>5648.000000</td>\n",
       "      <td>5648.000000</td>\n",
       "      <td>...</td>\n",
       "      <td>5648.000000</td>\n",
       "      <td>5648.000000</td>\n",
       "      <td>5648.000000</td>\n",
       "      <td>5648.000000</td>\n",
       "      <td>5648.000000</td>\n",
       "      <td>5648.000000</td>\n",
       "      <td>5648.000000</td>\n",
       "      <td>5648.000000</td>\n",
       "      <td>5648.000000</td>\n",
       "      <td>5648.000000</td>\n",
       "    </tr>\n",
       "    <tr>\n",
       "      <td>mean</td>\n",
       "      <td>0.001708</td>\n",
       "      <td>0.001472</td>\n",
       "      <td>0.006335</td>\n",
       "      <td>0.002273</td>\n",
       "      <td>0.002466</td>\n",
       "      <td>0.004041</td>\n",
       "      <td>0.002923</td>\n",
       "      <td>0.001420</td>\n",
       "      <td>0.002057</td>\n",
       "      <td>0.001560</td>\n",
       "      <td>...</td>\n",
       "      <td>0.003717</td>\n",
       "      <td>0.004887</td>\n",
       "      <td>0.003494</td>\n",
       "      <td>0.002800</td>\n",
       "      <td>0.006421</td>\n",
       "      <td>0.001851</td>\n",
       "      <td>0.006020</td>\n",
       "      <td>0.008144</td>\n",
       "      <td>0.006705</td>\n",
       "      <td>3.345255</td>\n",
       "    </tr>\n",
       "    <tr>\n",
       "      <td>std</td>\n",
       "      <td>0.034360</td>\n",
       "      <td>0.016554</td>\n",
       "      <td>0.033866</td>\n",
       "      <td>0.026688</td>\n",
       "      <td>0.022362</td>\n",
       "      <td>0.030053</td>\n",
       "      <td>0.024208</td>\n",
       "      <td>0.018515</td>\n",
       "      <td>0.020301</td>\n",
       "      <td>0.020248</td>\n",
       "      <td>...</td>\n",
       "      <td>0.028373</td>\n",
       "      <td>0.033153</td>\n",
       "      <td>0.027797</td>\n",
       "      <td>0.025441</td>\n",
       "      <td>0.037083</td>\n",
       "      <td>0.020132</td>\n",
       "      <td>0.036011</td>\n",
       "      <td>0.037727</td>\n",
       "      <td>0.039841</td>\n",
       "      <td>2.208888</td>\n",
       "    </tr>\n",
       "    <tr>\n",
       "      <td>min</td>\n",
       "      <td>0.000000</td>\n",
       "      <td>0.000000</td>\n",
       "      <td>0.000000</td>\n",
       "      <td>0.000000</td>\n",
       "      <td>0.000000</td>\n",
       "      <td>0.000000</td>\n",
       "      <td>0.000000</td>\n",
       "      <td>0.000000</td>\n",
       "      <td>0.000000</td>\n",
       "      <td>0.000000</td>\n",
       "      <td>...</td>\n",
       "      <td>0.000000</td>\n",
       "      <td>0.000000</td>\n",
       "      <td>0.000000</td>\n",
       "      <td>0.000000</td>\n",
       "      <td>0.000000</td>\n",
       "      <td>0.000000</td>\n",
       "      <td>0.000000</td>\n",
       "      <td>0.000000</td>\n",
       "      <td>0.000000</td>\n",
       "      <td>0.000000</td>\n",
       "    </tr>\n",
       "    <tr>\n",
       "      <td>25%</td>\n",
       "      <td>0.000000</td>\n",
       "      <td>0.000000</td>\n",
       "      <td>0.000000</td>\n",
       "      <td>0.000000</td>\n",
       "      <td>0.000000</td>\n",
       "      <td>0.000000</td>\n",
       "      <td>0.000000</td>\n",
       "      <td>0.000000</td>\n",
       "      <td>0.000000</td>\n",
       "      <td>0.000000</td>\n",
       "      <td>...</td>\n",
       "      <td>0.000000</td>\n",
       "      <td>0.000000</td>\n",
       "      <td>0.000000</td>\n",
       "      <td>0.000000</td>\n",
       "      <td>0.000000</td>\n",
       "      <td>0.000000</td>\n",
       "      <td>0.000000</td>\n",
       "      <td>0.000000</td>\n",
       "      <td>0.000000</td>\n",
       "      <td>1.000000</td>\n",
       "    </tr>\n",
       "    <tr>\n",
       "      <td>50%</td>\n",
       "      <td>0.000000</td>\n",
       "      <td>0.000000</td>\n",
       "      <td>0.000000</td>\n",
       "      <td>0.000000</td>\n",
       "      <td>0.000000</td>\n",
       "      <td>0.000000</td>\n",
       "      <td>0.000000</td>\n",
       "      <td>0.000000</td>\n",
       "      <td>0.000000</td>\n",
       "      <td>0.000000</td>\n",
       "      <td>...</td>\n",
       "      <td>0.000000</td>\n",
       "      <td>0.000000</td>\n",
       "      <td>0.000000</td>\n",
       "      <td>0.000000</td>\n",
       "      <td>0.000000</td>\n",
       "      <td>0.000000</td>\n",
       "      <td>0.000000</td>\n",
       "      <td>0.000000</td>\n",
       "      <td>0.000000</td>\n",
       "      <td>3.000000</td>\n",
       "    </tr>\n",
       "    <tr>\n",
       "      <td>75%</td>\n",
       "      <td>0.000000</td>\n",
       "      <td>0.000000</td>\n",
       "      <td>0.000000</td>\n",
       "      <td>0.000000</td>\n",
       "      <td>0.000000</td>\n",
       "      <td>0.000000</td>\n",
       "      <td>0.000000</td>\n",
       "      <td>0.000000</td>\n",
       "      <td>0.000000</td>\n",
       "      <td>0.000000</td>\n",
       "      <td>...</td>\n",
       "      <td>0.000000</td>\n",
       "      <td>0.000000</td>\n",
       "      <td>0.000000</td>\n",
       "      <td>0.000000</td>\n",
       "      <td>0.000000</td>\n",
       "      <td>0.000000</td>\n",
       "      <td>0.000000</td>\n",
       "      <td>0.000000</td>\n",
       "      <td>0.000000</td>\n",
       "      <td>5.000000</td>\n",
       "    </tr>\n",
       "    <tr>\n",
       "      <td>max</td>\n",
       "      <td>0.956585</td>\n",
       "      <td>0.443807</td>\n",
       "      <td>0.565277</td>\n",
       "      <td>0.711480</td>\n",
       "      <td>0.529982</td>\n",
       "      <td>0.635985</td>\n",
       "      <td>0.560049</td>\n",
       "      <td>0.461537</td>\n",
       "      <td>0.657318</td>\n",
       "      <td>0.631932</td>\n",
       "      <td>...</td>\n",
       "      <td>0.614346</td>\n",
       "      <td>0.698880</td>\n",
       "      <td>0.511068</td>\n",
       "      <td>0.596214</td>\n",
       "      <td>0.751603</td>\n",
       "      <td>0.561412</td>\n",
       "      <td>0.617048</td>\n",
       "      <td>0.438414</td>\n",
       "      <td>0.736056</td>\n",
       "      <td>7.000000</td>\n",
       "    </tr>\n",
       "  </tbody>\n",
       "</table>\n",
       "<p>8 rows × 1001 columns</p>\n",
       "</div>"
      ],
      "text/plain": [
       "                __      ability         able           ac       accept  \\\n",
       "count  5648.000000  5648.000000  5648.000000  5648.000000  5648.000000   \n",
       "mean      0.001708     0.001472     0.006335     0.002273     0.002466   \n",
       "std       0.034360     0.016554     0.033866     0.026688     0.022362   \n",
       "min       0.000000     0.000000     0.000000     0.000000     0.000000   \n",
       "25%       0.000000     0.000000     0.000000     0.000000     0.000000   \n",
       "50%       0.000000     0.000000     0.000000     0.000000     0.000000   \n",
       "75%       0.000000     0.000000     0.000000     0.000000     0.000000   \n",
       "max       0.956585     0.443807     0.565277     0.711480     0.529982   \n",
       "\n",
       "            access    according      account          act       action  ...  \\\n",
       "count  5648.000000  5648.000000  5648.000000  5648.000000  5648.000000  ...   \n",
       "mean      0.004041     0.002923     0.001420     0.002057     0.001560  ...   \n",
       "std       0.030053     0.024208     0.018515     0.020301     0.020248  ...   \n",
       "min       0.000000     0.000000     0.000000     0.000000     0.000000  ...   \n",
       "25%       0.000000     0.000000     0.000000     0.000000     0.000000  ...   \n",
       "50%       0.000000     0.000000     0.000000     0.000000     0.000000  ...   \n",
       "75%       0.000000     0.000000     0.000000     0.000000     0.000000  ...   \n",
       "max       0.635985     0.560049     0.461537     0.657318     0.631932  ...   \n",
       "\n",
       "             worth       wouldn        write      written        wrong  \\\n",
       "count  5648.000000  5648.000000  5648.000000  5648.000000  5648.000000   \n",
       "mean      0.003717     0.004887     0.003494     0.002800     0.006421   \n",
       "std       0.028373     0.033153     0.027797     0.025441     0.037083   \n",
       "min       0.000000     0.000000     0.000000     0.000000     0.000000   \n",
       "25%       0.000000     0.000000     0.000000     0.000000     0.000000   \n",
       "50%       0.000000     0.000000     0.000000     0.000000     0.000000   \n",
       "75%       0.000000     0.000000     0.000000     0.000000     0.000000   \n",
       "max       0.614346     0.698880     0.511068     0.596214     0.751603   \n",
       "\n",
       "             wrote         year        years          yes        class  \n",
       "count  5648.000000  5648.000000  5648.000000  5648.000000  5648.000000  \n",
       "mean      0.001851     0.006020     0.008144     0.006705     3.345255  \n",
       "std       0.020132     0.036011     0.037727     0.039841     2.208888  \n",
       "min       0.000000     0.000000     0.000000     0.000000     0.000000  \n",
       "25%       0.000000     0.000000     0.000000     0.000000     1.000000  \n",
       "50%       0.000000     0.000000     0.000000     0.000000     3.000000  \n",
       "75%       0.000000     0.000000     0.000000     0.000000     5.000000  \n",
       "max       0.561412     0.617048     0.438414     0.736056     7.000000  \n",
       "\n",
       "[8 rows x 1001 columns]"
      ]
     },
     "execution_count": 4,
     "metadata": {},
     "output_type": "execute_result"
    }
   ],
   "source": [
    "print('Nrows: {}'.format(ng_train.shape[0]))\n",
    "print('NCols: {}'.format(ng_train.shape[1]))\n",
    "list_un = ng_train['class'].unique()\n",
    "sort_un = np.sort(list_un)\n",
    "print(sort_un)\n",
    "print('Number of classes: {}'.format(len(ng_train['class'].unique())))\n",
    "\n",
    "X_temp = ng_train.drop('class', axis = 1)\n",
    "\n",
    "description = X_temp.describe()\n",
    "means_importance = (description[:'mean'].drop('count')).values\n",
    "\n",
    "plt.hist(means_importance[0])\n",
    "plt.title('Feature Importance Means')\n",
    "plt.xlabel('Importance')\n",
    "plt.ylabel('Count')\n",
    "plt.show()\n",
    "\n",
    "ng_train.describe()"
   ]
  },
  {
   "cell_type": "markdown",
   "metadata": {},
   "source": [
    " - We have 5648 data points/ articles with 1001 attributes\n",
    " - All attributes seem to have between a 0 minimum and 1 maximium, this suggest the data has already been standardised using max/min function\n",
    " - The standard deviations and means of the attributes are all low(<<1) however not equal across the board and so there has been no mu/sigma standardisation\n",
    " - There are 8 unique classes for the data"
   ]
  },
  {
   "cell_type": "code",
   "execution_count": 5,
   "metadata": {},
   "outputs": [
    {
     "data": {
      "image/png": "[encoded data removed]",
      "text/plain": [
       "<Figure size 432x288 with 1 Axes>"
      ]
     },
     "metadata": {
      "needs_background": "light"
     },
     "output_type": "display_data"
    },
    {
     "name": "stdout",
     "output_type": "stream",
     "text": [
      "Number of 0 class occurences: 737\n",
      "Number of 1 class occurences: 722\n",
      "Number of 2 class occurences: 742\n",
      "Number of 3 class occurences: 747\n",
      "Number of 4 class occurences: 743\n",
      "Number of 5 class occurences: 738\n",
      "Number of 6 class occurences: 748\n",
      "Number of 7 class occurences: 471\n"
     ]
    }
   ],
   "source": [
    "plt.hist(ng_train['class'], bins = 8)\n",
    "plt.xlabel('Classes')\n",
    "plt.ylabel('Counts')\n",
    "plt.title('Counts of a Class Occuring in Data ')\n",
    "plt.show()\n",
    "\n",
    "for i in sort_un:\n",
    "    total_of_class = ng_train[ng_train['class']==i].shape[0]\n",
    "    print('Number of {:.0f} class occurences: {}'.format(i, total_of_class))"
   ]
  },
  {
   "cell_type": "markdown",
   "metadata": {},
   "source": [
    " - There are a fairly equal number of class occurences over the first 7 in the trianing set however the 8th class has significantly less. This means when we use this data for trianing a classifier ater donw the line, class 7(the 8th class) is likely to be less well classified."
   ]
  },
  {
   "cell_type": "code",
   "execution_count": 6,
   "metadata": {},
   "outputs": [
    {
     "data": {
      "image/png": "[encoded data removed]",
      "text/plain": [
       "<Figure size 432x288 with 6 Axes>"
      ]
     },
     "metadata": {
      "needs_background": "light"
     },
     "output_type": "display_data"
    }
   ],
   "source": [
    "columns = ng_train.columns[:]\n",
    "fig = plt.figure()\n",
    "fig.subplots_adjust(hspace=0.4, wspace=0.4)\n",
    "for i in range(1, 7):\n",
    "    ax = fig.add_subplot(2, 3, i)\n",
    "    column_i = columns[i]\n",
    "    plt.hist(ng_train[column_i])\n",
    "    plt.xlim(0,0.5)\n",
    "    plt.ylim(0,200)\n",
    "    plt.title(column_i)\n"
   ]
  },
  {
   "cell_type": "markdown",
   "metadata": {},
   "source": [
    " - For the attributes, data is almost always 0, meaning that each word analysed is used only in a small subsection of articles."
   ]
  },
  {
   "cell_type": "markdown",
   "metadata": {},
   "source": [
    "##### Testing Set"
   ]
  },
  {
   "cell_type": "code",
   "execution_count": 7,
   "metadata": {},
   "outputs": [
    {
     "name": "stdout",
     "output_type": "stream",
     "text": [
      "Nrows: 1883\n",
      "NCols: 1001\n",
      "[0 1 2 3 4 5 6 7]\n",
      "Number of classes: 8\n"
     ]
    },
    {
     "data": {
      "image/png": "[encoded data removed]",
      "text/plain": [
       "<Figure size 432x288 with 1 Axes>"
      ]
     },
     "metadata": {
      "needs_background": "light"
     },
     "output_type": "display_data"
    },
    {
     "data": {
      "text/html": [
       "<div>\n",
       "<style scoped>\n",
       "    .dataframe tbody tr th:only-of-type {\n",
       "        vertical-align: middle;\n",
       "    }\n",
       "\n",
       "    .dataframe tbody tr th {\n",
       "        vertical-align: top;\n",
       "    }\n",
       "\n",
       "    .dataframe thead th {\n",
       "        text-align: right;\n",
       "    }\n",
       "</style>\n",
       "<table border=\"1\" class=\"dataframe\">\n",
       "  <thead>\n",
       "    <tr style=\"text-align: right;\">\n",
       "      <th></th>\n",
       "      <th>__</th>\n",
       "      <th>ability</th>\n",
       "      <th>able</th>\n",
       "      <th>ac</th>\n",
       "      <th>accept</th>\n",
       "      <th>access</th>\n",
       "      <th>according</th>\n",
       "      <th>account</th>\n",
       "      <th>act</th>\n",
       "      <th>action</th>\n",
       "      <th>...</th>\n",
       "      <th>worth</th>\n",
       "      <th>wouldn</th>\n",
       "      <th>write</th>\n",
       "      <th>written</th>\n",
       "      <th>wrong</th>\n",
       "      <th>wrote</th>\n",
       "      <th>year</th>\n",
       "      <th>years</th>\n",
       "      <th>yes</th>\n",
       "      <th>class</th>\n",
       "    </tr>\n",
       "  </thead>\n",
       "  <tbody>\n",
       "    <tr>\n",
       "      <td>count</td>\n",
       "      <td>1883.000000</td>\n",
       "      <td>1883.000000</td>\n",
       "      <td>1883.000000</td>\n",
       "      <td>1883.000000</td>\n",
       "      <td>1883.000000</td>\n",
       "      <td>1883.000000</td>\n",
       "      <td>1883.000000</td>\n",
       "      <td>1883.000000</td>\n",
       "      <td>1883.000000</td>\n",
       "      <td>1883.000000</td>\n",
       "      <td>...</td>\n",
       "      <td>1883.000000</td>\n",
       "      <td>1883.000000</td>\n",
       "      <td>1883.000000</td>\n",
       "      <td>1883.000000</td>\n",
       "      <td>1883.000000</td>\n",
       "      <td>1883.000000</td>\n",
       "      <td>1883.000000</td>\n",
       "      <td>1883.000000</td>\n",
       "      <td>1883.000000</td>\n",
       "      <td>1883.000000</td>\n",
       "    </tr>\n",
       "    <tr>\n",
       "      <td>mean</td>\n",
       "      <td>0.002292</td>\n",
       "      <td>0.002168</td>\n",
       "      <td>0.007335</td>\n",
       "      <td>0.002817</td>\n",
       "      <td>0.002701</td>\n",
       "      <td>0.004449</td>\n",
       "      <td>0.003012</td>\n",
       "      <td>0.001716</td>\n",
       "      <td>0.001886</td>\n",
       "      <td>0.001745</td>\n",
       "      <td>...</td>\n",
       "      <td>0.003018</td>\n",
       "      <td>0.005356</td>\n",
       "      <td>0.003746</td>\n",
       "      <td>0.003812</td>\n",
       "      <td>0.007960</td>\n",
       "      <td>0.001970</td>\n",
       "      <td>0.006214</td>\n",
       "      <td>0.008706</td>\n",
       "      <td>0.009449</td>\n",
       "      <td>3.345194</td>\n",
       "    </tr>\n",
       "    <tr>\n",
       "      <td>std</td>\n",
       "      <td>0.032391</td>\n",
       "      <td>0.021397</td>\n",
       "      <td>0.034312</td>\n",
       "      <td>0.032169</td>\n",
       "      <td>0.021777</td>\n",
       "      <td>0.032393</td>\n",
       "      <td>0.026133</td>\n",
       "      <td>0.022855</td>\n",
       "      <td>0.019504</td>\n",
       "      <td>0.018376</td>\n",
       "      <td>...</td>\n",
       "      <td>0.026231</td>\n",
       "      <td>0.033441</td>\n",
       "      <td>0.028779</td>\n",
       "      <td>0.032836</td>\n",
       "      <td>0.039182</td>\n",
       "      <td>0.020613</td>\n",
       "      <td>0.037389</td>\n",
       "      <td>0.041551</td>\n",
       "      <td>0.043570</td>\n",
       "      <td>2.208286</td>\n",
       "    </tr>\n",
       "    <tr>\n",
       "      <td>min</td>\n",
       "      <td>0.000000</td>\n",
       "      <td>0.000000</td>\n",
       "      <td>0.000000</td>\n",
       "      <td>0.000000</td>\n",
       "      <td>0.000000</td>\n",
       "      <td>0.000000</td>\n",
       "      <td>0.000000</td>\n",
       "      <td>0.000000</td>\n",
       "      <td>0.000000</td>\n",
       "      <td>0.000000</td>\n",
       "      <td>...</td>\n",
       "      <td>0.000000</td>\n",
       "      <td>0.000000</td>\n",
       "      <td>0.000000</td>\n",
       "      <td>0.000000</td>\n",
       "      <td>0.000000</td>\n",
       "      <td>0.000000</td>\n",
       "      <td>0.000000</td>\n",
       "      <td>0.000000</td>\n",
       "      <td>0.000000</td>\n",
       "      <td>0.000000</td>\n",
       "    </tr>\n",
       "    <tr>\n",
       "      <td>25%</td>\n",
       "      <td>0.000000</td>\n",
       "      <td>0.000000</td>\n",
       "      <td>0.000000</td>\n",
       "      <td>0.000000</td>\n",
       "      <td>0.000000</td>\n",
       "      <td>0.000000</td>\n",
       "      <td>0.000000</td>\n",
       "      <td>0.000000</td>\n",
       "      <td>0.000000</td>\n",
       "      <td>0.000000</td>\n",
       "      <td>...</td>\n",
       "      <td>0.000000</td>\n",
       "      <td>0.000000</td>\n",
       "      <td>0.000000</td>\n",
       "      <td>0.000000</td>\n",
       "      <td>0.000000</td>\n",
       "      <td>0.000000</td>\n",
       "      <td>0.000000</td>\n",
       "      <td>0.000000</td>\n",
       "      <td>0.000000</td>\n",
       "      <td>1.000000</td>\n",
       "    </tr>\n",
       "    <tr>\n",
       "      <td>50%</td>\n",
       "      <td>0.000000</td>\n",
       "      <td>0.000000</td>\n",
       "      <td>0.000000</td>\n",
       "      <td>0.000000</td>\n",
       "      <td>0.000000</td>\n",
       "      <td>0.000000</td>\n",
       "      <td>0.000000</td>\n",
       "      <td>0.000000</td>\n",
       "      <td>0.000000</td>\n",
       "      <td>0.000000</td>\n",
       "      <td>...</td>\n",
       "      <td>0.000000</td>\n",
       "      <td>0.000000</td>\n",
       "      <td>0.000000</td>\n",
       "      <td>0.000000</td>\n",
       "      <td>0.000000</td>\n",
       "      <td>0.000000</td>\n",
       "      <td>0.000000</td>\n",
       "      <td>0.000000</td>\n",
       "      <td>0.000000</td>\n",
       "      <td>3.000000</td>\n",
       "    </tr>\n",
       "    <tr>\n",
       "      <td>75%</td>\n",
       "      <td>0.000000</td>\n",
       "      <td>0.000000</td>\n",
       "      <td>0.000000</td>\n",
       "      <td>0.000000</td>\n",
       "      <td>0.000000</td>\n",
       "      <td>0.000000</td>\n",
       "      <td>0.000000</td>\n",
       "      <td>0.000000</td>\n",
       "      <td>0.000000</td>\n",
       "      <td>0.000000</td>\n",
       "      <td>...</td>\n",
       "      <td>0.000000</td>\n",
       "      <td>0.000000</td>\n",
       "      <td>0.000000</td>\n",
       "      <td>0.000000</td>\n",
       "      <td>0.000000</td>\n",
       "      <td>0.000000</td>\n",
       "      <td>0.000000</td>\n",
       "      <td>0.000000</td>\n",
       "      <td>0.000000</td>\n",
       "      <td>5.000000</td>\n",
       "    </tr>\n",
       "    <tr>\n",
       "      <td>max</td>\n",
       "      <td>0.864159</td>\n",
       "      <td>0.469412</td>\n",
       "      <td>0.337561</td>\n",
       "      <td>0.620254</td>\n",
       "      <td>0.310053</td>\n",
       "      <td>0.504324</td>\n",
       "      <td>0.420903</td>\n",
       "      <td>0.632166</td>\n",
       "      <td>0.336667</td>\n",
       "      <td>0.387412</td>\n",
       "      <td>...</td>\n",
       "      <td>0.490894</td>\n",
       "      <td>0.481298</td>\n",
       "      <td>0.434553</td>\n",
       "      <td>0.543384</td>\n",
       "      <td>0.470697</td>\n",
       "      <td>0.566179</td>\n",
       "      <td>0.537827</td>\n",
       "      <td>0.532047</td>\n",
       "      <td>0.590114</td>\n",
       "      <td>7.000000</td>\n",
       "    </tr>\n",
       "  </tbody>\n",
       "</table>\n",
       "<p>8 rows × 1001 columns</p>\n",
       "</div>"
      ],
      "text/plain": [
       "                __      ability         able           ac       accept  \\\n",
       "count  1883.000000  1883.000000  1883.000000  1883.000000  1883.000000   \n",
       "mean      0.002292     0.002168     0.007335     0.002817     0.002701   \n",
       "std       0.032391     0.021397     0.034312     0.032169     0.021777   \n",
       "min       0.000000     0.000000     0.000000     0.000000     0.000000   \n",
       "25%       0.000000     0.000000     0.000000     0.000000     0.000000   \n",
       "50%       0.000000     0.000000     0.000000     0.000000     0.000000   \n",
       "75%       0.000000     0.000000     0.000000     0.000000     0.000000   \n",
       "max       0.864159     0.469412     0.337561     0.620254     0.310053   \n",
       "\n",
       "            access    according      account          act       action  ...  \\\n",
       "count  1883.000000  1883.000000  1883.000000  1883.000000  1883.000000  ...   \n",
       "mean      0.004449     0.003012     0.001716     0.001886     0.001745  ...   \n",
       "std       0.032393     0.026133     0.022855     0.019504     0.018376  ...   \n",
       "min       0.000000     0.000000     0.000000     0.000000     0.000000  ...   \n",
       "25%       0.000000     0.000000     0.000000     0.000000     0.000000  ...   \n",
       "50%       0.000000     0.000000     0.000000     0.000000     0.000000  ...   \n",
       "75%       0.000000     0.000000     0.000000     0.000000     0.000000  ...   \n",
       "max       0.504324     0.420903     0.632166     0.336667     0.387412  ...   \n",
       "\n",
       "             worth       wouldn        write      written        wrong  \\\n",
       "count  1883.000000  1883.000000  1883.000000  1883.000000  1883.000000   \n",
       "mean      0.003018     0.005356     0.003746     0.003812     0.007960   \n",
       "std       0.026231     0.033441     0.028779     0.032836     0.039182   \n",
       "min       0.000000     0.000000     0.000000     0.000000     0.000000   \n",
       "25%       0.000000     0.000000     0.000000     0.000000     0.000000   \n",
       "50%       0.000000     0.000000     0.000000     0.000000     0.000000   \n",
       "75%       0.000000     0.000000     0.000000     0.000000     0.000000   \n",
       "max       0.490894     0.481298     0.434553     0.543384     0.470697   \n",
       "\n",
       "             wrote         year        years          yes        class  \n",
       "count  1883.000000  1883.000000  1883.000000  1883.000000  1883.000000  \n",
       "mean      0.001970     0.006214     0.008706     0.009449     3.345194  \n",
       "std       0.020613     0.037389     0.041551     0.043570     2.208286  \n",
       "min       0.000000     0.000000     0.000000     0.000000     0.000000  \n",
       "25%       0.000000     0.000000     0.000000     0.000000     1.000000  \n",
       "50%       0.000000     0.000000     0.000000     0.000000     3.000000  \n",
       "75%       0.000000     0.000000     0.000000     0.000000     5.000000  \n",
       "max       0.566179     0.537827     0.532047     0.590114     7.000000  \n",
       "\n",
       "[8 rows x 1001 columns]"
      ]
     },
     "execution_count": 7,
     "metadata": {},
     "output_type": "execute_result"
    }
   ],
   "source": [
    "print('Nrows: {}'.format(ng_test.shape[0]))\n",
    "print('NCols: {}'.format(ng_test.shape[1]))\n",
    "list_un = ng_test['class'].unique()\n",
    "sort_un = np.sort(list_un)\n",
    "print(sort_un)\n",
    "print('Number of classes: {}'.format(len(ng_test['class'].unique())))\n",
    "\n",
    "X_temp_2 = ng_test.drop('class', axis = 1)\n",
    "\n",
    "description_2 = X_temp_2.describe()\n",
    "means_importance_2 = (description_2[:'mean'].drop('count')).values\n",
    "\n",
    "plt.hist(means_importance_2[0])\n",
    "plt.title('Feature Importance Means')\n",
    "plt.xlabel('Importance')\n",
    "plt.ylabel('Count')\n",
    "plt.show()\n",
    "ng_test.describe()"
   ]
  },
  {
   "cell_type": "markdown",
   "metadata": {},
   "source": [
    " - We have 1883 data points/ articles with 1001 attributes\n",
    " - All attributes seem to have between a 0 minimum and 1 maximium, this suggest the data has already been standardised using max/min function\n",
    " - The standard deviations and means of the attributes are all low(<<1) however not equal across the board and so there has been no mu/sigma standardisation\n",
    " - There are 8 unique classes for the data"
   ]
  },
  {
   "cell_type": "code",
   "execution_count": 8,
   "metadata": {},
   "outputs": [
    {
     "data": {
      "image/png": "[encoded data removed]",
      "text/plain": [
       "<Figure size 432x288 with 1 Axes>"
      ]
     },
     "metadata": {
      "needs_background": "light"
     },
     "output_type": "display_data"
    },
    {
     "name": "stdout",
     "output_type": "stream",
     "text": [
      "Number of 0 class occurences: 245\n",
      "Number of 1 class occurences: 241\n",
      "Number of 2 class occurences: 248\n",
      "Number of 3 class occurences: 249\n",
      "Number of 4 class occurences: 248\n",
      "Number of 5 class occurences: 246\n",
      "Number of 6 class occurences: 249\n",
      "Number of 7 class occurences: 157\n"
     ]
    }
   ],
   "source": [
    "plt.hist(ng_test['class'], bins = 8)\n",
    "plt.xlabel('Classes')\n",
    "plt.ylabel('Counts')\n",
    "plt.title('Counts of a Class Occuring in Data ')\n",
    "plt.show()\n",
    "\n",
    "for i in sort_un:\n",
    "    total_of_class = ng_test[ng_test['class']==i].shape[0]\n",
    "    print('Number of {:.0f} class occurences: {}'.format(i, total_of_class))"
   ]
  },
  {
   "cell_type": "markdown",
   "metadata": {},
   "source": [
    " - Same phenomena as seen in the training data where class 8 is less frequently seen/ sampled from."
   ]
  },
  {
   "cell_type": "code",
   "execution_count": 9,
   "metadata": {},
   "outputs": [
    {
     "data": {
      "image/png": "[encoded data removed]",
      "text/plain": [
       "<Figure size 432x288 with 6 Axes>"
      ]
     },
     "metadata": {
      "needs_background": "light"
     },
     "output_type": "display_data"
    }
   ],
   "source": [
    "columns = ng_test.columns[:]\n",
    "fig = plt.figure()\n",
    "fig.subplots_adjust(hspace=0.4, wspace=0.4)\n",
    "for i in range(1, 7):\n",
    "    ax = fig.add_subplot(2, 3, i)\n",
    "    column_i = columns[i]\n",
    "    plt.hist(ng_test[column_i])\n",
    "    plt.xlim(0,0.5)\n",
    "    plt.ylim(0,50)\n",
    "    plt.title(column_i)\n"
   ]
  },
  {
   "cell_type": "markdown",
   "metadata": {},
   "source": [
    "- Attributes follow a very simlar distribution as in the trianing set where most articles do not contain them and a small proportio do, tending off."
   ]
  },
  {
   "cell_type": "markdown",
   "metadata": {},
   "source": [
    "The tf-idf feature engineering makes rare words more prominent and effectively ignores common words. This should allow the algorithms to more easily ralate certain words to a certain class. "
   ]
  },
  {
   "cell_type": "code",
   "execution_count": 10,
   "metadata": {},
   "outputs": [
    {
     "name": "stdout",
     "output_type": "stream",
     "text": [
      "X_train: (5648, 1000)\n",
      "y_train: (5648,)\n",
      "X_test: (1883, 1000)\n",
      "y_test: (1883,)\n"
     ]
    }
   ],
   "source": [
    "X_train = (ng_train.drop('class', axis = 1)).values\n",
    "y_train = (ng_train['class']).values\n",
    "\n",
    "X_test = (ng_test.drop('class', axis = 1)).values\n",
    "y_test = (ng_test['class']).values\n",
    "\n",
    "print('X_train: {}'.format(X_train.shape))\n",
    "print('y_train: {}'.format(y_train.shape))\n",
    "print('X_test: {}'.format(X_test.shape))\n",
    "print('y_test: {}'.format(y_test.shape))\n",
    "X = X_train\n",
    "y = y_train"
   ]
  },
  {
   "cell_type": "markdown",
   "metadata": {},
   "source": [
    "## 2.Unsupervised Learning"
   ]
  },
  {
   "cell_type": "markdown",
   "metadata": {},
   "source": [
    "### 2.1 Centroids"
   ]
  },
  {
   "cell_type": "markdown",
   "metadata": {},
   "source": [
    "K-means is a non deterministic algorithm. This means that running the algorithm multiple times on the same dataset, could give different results each time. This happens because the initial centroid placements are not fixed and so will converge at differetn locations within the data space. In scikit learn, KMeans picks a final model after the centroids movement from the last iteration falls below a 'significant' threshold.  In this implememtation the centroids are initialsed, generally, far way to try and combat local minima."
   ]
  },
  {
   "cell_type": "markdown",
   "metadata": {},
   "source": [
    "### 2.2 K Parameter"
   ]
  },
  {
   "cell_type": "markdown",
   "metadata": {},
   "source": [
    "As there are 8 classes in this dataset, using 8 clusters (k=8) seems reasonable. It allows each class its own individual cluster."
   ]
  },
  {
   "cell_type": "markdown",
   "metadata": {},
   "source": [
    "### 2.3 Mutual information"
   ]
  },
  {
   "cell_type": "markdown",
   "metadata": {},
   "source": [
    "Mutual Infomration is mathematically defined as: $$I(X ; Y)=\\sum_{x \\in \\mathcal{X}} \\sum_{y \\in \\mathcal{Y}} P(x, y) \\log \\frac{P(x, y)}{P(x) P(y)}$$ It can also be defined in terms of entropy like this $$I(X ; Y)=H(X)-H(X | Y)$$ where H(x) is the enrtopy of variable X and H(X|Y) is the conditional entropy between the two variables.<br> MI meaures the amount of information gained about one variable through observing another. <br> This is applicable here as we want to try and find similarities and connections between the data points as that is how we partition them into clusters.<br>This may be difficult to do in practice as conditional probabilities become exponentially expensive with number of variables."
   ]
  },
  {
   "cell_type": "markdown",
   "metadata": {},
   "source": [
    "### 2.4 Fitting for N Clusters"
   ]
  },
  {
   "cell_type": "code",
   "execution_count": 11,
   "metadata": {},
   "outputs": [],
   "source": [
    "clusters = np.arange(2,13,1)\n",
    "MI = []\n",
    "for i in clusters:\n",
    "    k_means = KMeans(n_clusters=i, random_state=1000, n_init = 50).fit(X_train)\n",
    "    labels_pred = k_means.labels_\n",
    "    mutual = adjusted_mutual_info_score(y_train, labels_pred, average_method='max')\n",
    "    MI.append(mutual)"
   ]
  },
  {
   "cell_type": "code",
   "execution_count": 138,
   "metadata": {},
   "outputs": [
    {
     "data": {
      "image/png": "[encoded data removed]",
      "text/plain": [
       "<Figure size 432x288 with 1 Axes>"
      ]
     },
     "metadata": {
      "needs_background": "light"
     },
     "output_type": "display_data"
    }
   ],
   "source": [
    "plt.plot(clusters, MI)\n",
    "plt.xlabel('Number of Clusters')\n",
    "plt.ylabel('Adjusted Mutual Information Score')\n",
    "plt.title('Number of Clusters vs Mutual Information Score')\n",
    "plt.show()"
   ]
  },
  {
   "cell_type": "markdown",
   "metadata": {},
   "source": [
    "### 2.5 Mutual Info vs Cluster Count Analysis"
   ]
  },
  {
   "cell_type": "markdown",
   "metadata": {},
   "source": [
    "The sharpest increase in MI score is from k = 2 to k = 4. After this there is a drop at k = 5 and then a gradual rise until k = 9 where the score then drops again and continues to do so. The peak at k = 4 is interesting however using the knowldge that our 8 classes can be considered as 4 when grouped by tpoic this becomes more reasonable. Since there are 8 classes we expect a peak in MI score at that value, however we instead find that peak at k = 9. This is outside expectations.\n",
    " - A local maximum at k = 4\n",
    " - A seemingly continuos decrease after k = 9\n",
    " - Actual peak at k = 9 intead of k = 8"
   ]
  },
  {
   "cell_type": "markdown",
   "metadata": {},
   "source": [
    "### 2.6 Cluster(k=4)  Analysis "
   ]
  },
  {
   "cell_type": "code",
   "execution_count": 13,
   "metadata": {},
   "outputs": [],
   "source": [
    "#Retraining for k = 4\n",
    "k_means4 = KMeans(n_clusters=4, random_state=1000, n_init = 50).fit(X_train)"
   ]
  },
  {
   "cell_type": "code",
   "execution_count": 14,
   "metadata": {},
   "outputs": [
    {
     "data": {
      "image/png": "[encoded data removed]",
      "text/plain": [
       "<Figure size 432x288 with 1 Axes>"
      ]
     },
     "metadata": {
      "needs_background": "light"
     },
     "output_type": "display_data"
    },
    {
     "name": "stdout",
     "output_type": "stream",
     "text": [
      "Score: 0.222\n"
     ]
    }
   ],
   "source": [
    "labels_pred4 = k_means4.labels_\n",
    "centroids4 = k_means4.cluster_centers_\n",
    "inertia = k_means4.inertia_\n",
    "\n",
    "labels = []\n",
    "for i in range(0,4):\n",
    "    k = i\n",
    "    total = 0\n",
    "    for j in range(0,len(labels_pred4)):\n",
    "        if labels_pred4[j] == i:\n",
    "            total +=1\n",
    "    new_label = 'Cluster {} | {} Points'.format(k,total)\n",
    "    labels.append(new_label)\n",
    "    \n",
    "ax = sns.countplot(labels_pred4, hue = y_train)\n",
    "\n",
    "ax.set_xticklabels(labels, fontsize=10,rotation=40, ha=\"right\")\n",
    "plt.legend(bbox_to_anchor=(1.05, 1), loc=2, borderaxespad=0.)\n",
    "plt.show()\n",
    "\n",
    "print('Score: {:.3f}'.format(accuracy_score(y_train, labels_pred4)))"
   ]
  },
  {
   "cell_type": "markdown",
   "metadata": {},
   "source": [
    " - Obviously low classification score as we are only using 4 clusters\n",
    " - As there are 4 sub groups to the 8 classes, we expect to see 4 sets of 2 classes closely related\n",
    " - For the most part this seems to be shown, classes 0 and 1 are largely found together(mostly in cluster 0), classes 2 and 3 are found together in cluster 4, classes 4 and 5 are a bit more split between clusters than others however still have almost their own dedicated cluster at cluster 1, classes 6 and 7 also behave similarly with their main cluster being number 2.\n",
    " - Eaxh set of two classes we expect to be classified togethe rin a k=4 KMeans has its 'own' cluster to some extent, where the subset is somewhat seperated out from other classes. This is hatded to see in cluster 3 as it seems to contain much of the overflow of other labels, however its peak two classes are still two of those we expect to belong together. This conforms fairly well to observations made in 2.5."
   ]
  },
  {
   "cell_type": "markdown",
   "metadata": {},
   "source": [
    "## 3.Logistic Regression Classification"
   ]
  },
  {
   "cell_type": "code",
   "execution_count": 15,
   "metadata": {},
   "outputs": [],
   "source": [
    "#K-fold stratification\n",
    "folds = StratifiedKFold(n_splits=10, shuffle=True, random_state=0)"
   ]
  },
  {
   "cell_type": "markdown",
   "metadata": {},
   "source": [
    "### 3.1 F1 Score and Accuracy\n"
   ]
  },
  {
   "cell_type": "markdown",
   "metadata": {},
   "source": [
    "The F1 score is defined as: $$2*((precision*recall)/(precision+recall))$$ and represnts the balance between precision and recall. It is the harmoic mean of preciison and recall. \n",
    " - It is useful in this problem because we have several labels which can overlap a fair amount\n",
    " - The macro average can allow us calculate precision and recall metrics for each class label and find their unweighted mean. These metrics can then be used to calcualte F1 scores for each class and then by averaging this value, we can obtain a final F1 score across the full dataset. This method however does not take class imbalances into consideration"
   ]
  },
  {
   "cell_type": "markdown",
   "metadata": {},
   "source": [
    "### 3.2 Baseline(Dummy) Classifier"
   ]
  },
  {
   "cell_type": "markdown",
   "metadata": {},
   "source": [
    "A baseline classifier(dummy classifier) is one that always predicts the most frequent class that occurs in the training data set."
   ]
  },
  {
   "cell_type": "code",
   "execution_count": 16,
   "metadata": {},
   "outputs": [
    {
     "name": "stdout",
     "output_type": "stream",
     "text": [
      "F1 Score of Dummy on testing set: 0.029\n"
     ]
    }
   ],
   "source": [
    "dummy = DummyClassifier(strategy = 'most_frequent', random_state = 0)\n",
    "dummy.fit(X_train, y_train)\n",
    "dummy_pred = dummy.predict(X_test)\n",
    "\n",
    "f1_score_dummy = f1_score(y_test, dummy_pred, average = 'macro')\n",
    "print('F1 Score of Dummy on testing set: {:.3f}'.format(f1_score_dummy))"
   ]
  },
  {
   "cell_type": "markdown",
   "metadata": {},
   "source": [
    "### 3.3 Logistic Regression Theory "
   ]
  },
  {
   "cell_type": "markdown",
   "metadata": {},
   "source": [
    " - Logistic regression makes use of the softmax function to expand into the multi-class enviroment. For k different classes/labels the function has the form: $$\\operatorname{softmax}(\\boldsymbol{z})=\\frac{e^{z}}{\\sum_{i=1}^{k} e^{z_{i}}} $$\n",
    " - Given an input vector z, softmax does two things. First, it exponentiates (elementwise) $e^{z}$, forcing all values to be strictly positive. Then it normalizes so that all values sum to 1.\n",
    " - In our case for example, the softmax's output would be measured for all our 8 class labels, where each one is normalised by the sum of the exponentials of all class labels. This outputs 8 distinct probabilities which sum to 1, the highest probability of an individual class is chosen and the data poiunt is assigned that label."
   ]
  },
  {
   "cell_type": "markdown",
   "metadata": {},
   "source": [
    "### 3.4 Training Logistic Regressor"
   ]
  },
  {
   "cell_type": "code",
   "execution_count": 17,
   "metadata": {},
   "outputs": [
    {
     "name": "stdout",
     "output_type": "stream",
     "text": [
      "Mean: 0.6690\n",
      "STD: 0.0169\n"
     ]
    },
    {
     "data": {
      "image/png": "[encoded data removed]",
      "text/plain": [
       "<Figure size 432x288 with 1 Axes>"
      ]
     },
     "metadata": {
      "needs_background": "light"
     },
     "output_type": "display_data"
    }
   ],
   "source": [
    "val_f1_scores = []\n",
    "for train_index, val_index in folds.split(X, y):\n",
    "    X_train, X_val = X[train_index], X[val_index]\n",
    "    y_train, y_val = y[train_index], y[val_index]\n",
    "    \n",
    "    logR = LogisticRegression(solver='lbfgs', multi_class='multinomial', random_state=0)\n",
    "    logR.fit(X_train, y_train)\n",
    "    log_pred = logR.predict(X_val)\n",
    "\n",
    "    f1_score_val = f1_score(y_val, log_pred, average = 'macro')\n",
    "    val_f1_scores.append(f1_score_val)\n",
    "        \n",
    "print('Mean: {:.4f}'.format(np.mean(val_f1_scores)))\n",
    "print('STD: {:.4f}'.format(np.std(val_f1_scores)))\n",
    "\n",
    "plt.hist(val_f1_scores, bins = 5)\n",
    "plt.xlabel('F1 Score of Validation Set')\n",
    "plt.ylabel('Counts')\n",
    "plt.title('F1 Score of Val set distribution')\n",
    "plt.show()\n",
    "        "
   ]
  },
  {
   "cell_type": "markdown",
   "metadata": {},
   "source": [
    " - Considering f1 score has a maximum of 1 and a minimum of 0, an average score across all of the validation sets of 0.67 is fairly good. The standard deviation is also fairly small. This is a significantly better score than the one found in the summy testing classifier."
   ]
  },
  {
   "cell_type": "markdown",
   "metadata": {},
   "source": [
    "### 3.5 Optimising C Parameter"
   ]
  },
  {
   "cell_type": "code",
   "execution_count": 18,
   "metadata": {},
   "outputs": [],
   "source": [
    "c_values = np.logspace(-4, 5, 19)\n",
    "\n",
    "f1_val_avg = []\n",
    "f1_train_avg = []\n",
    "\n",
    "for i in c_values:\n",
    "    val_scores = []\n",
    "    train_scores = []\n",
    "    \n",
    "    for train_index, val_index in folds.split(X, y):\n",
    "        X_train, X_val = X[train_index], X[val_index]\n",
    "        y_train, y_val = y[train_index], y[val_index]\n",
    "\n",
    "        logR = LogisticRegression(solver='lbfgs', multi_class='multinomial', random_state=0, C = i, max_iter = 200)\n",
    "        logR.fit(X_train, y_train)\n",
    "\n",
    "        log_pred_train = logR.predict(X_train)\n",
    "        f1_score_train = f1_score(y_train, log_pred_train, average = 'macro')\n",
    "\n",
    "        log_pred_val = logR.predict(X_val)\n",
    "        f1_score_val = f1_score(y_val, log_pred_val, average = 'macro')\n",
    "\n",
    "        val_scores.append(f1_score_val)\n",
    "        train_scores.append(f1_score_train)\n",
    "    \n",
    "    f1_val_avg.append(np.mean(val_scores))\n",
    "    f1_train_avg.append(np.mean(train_scores))"
   ]
  },
  {
   "cell_type": "code",
   "execution_count": 19,
   "metadata": {},
   "outputs": [
    {
     "data": {
      "image/png": "[encoded data removed]",
      "text/plain": [
       "<Figure size 432x288 with 1 Axes>"
      ]
     },
     "metadata": {
      "needs_background": "light"
     },
     "output_type": "display_data"
    }
   ],
   "source": [
    "plt.plot(c_values, f1_val_avg)\n",
    "plt.plot(c_values, f1_train_avg)\n",
    "plt.xscale('log')\n",
    "plt.legend(['Validation Set', 'Training Set'], loc='upper left')\n",
    "plt.xlabel('C Value (log scale)')\n",
    "plt.ylabel('Average F1 score over all folds')\n",
    "plt.title('F1 Scores as function of C')\n",
    "plt.show()"
   ]
  },
  {
   "cell_type": "markdown",
   "metadata": {},
   "source": [
    "### 3.6 Optimal C Value "
   ]
  },
  {
   "cell_type": "markdown",
   "metadata": {},
   "source": [
    " - The idea for picking the optimal value of C is to pick the value that gives the highest validation set score \n",
    " - Might be smallest differnce but that would result in super low score ??"
   ]
  },
  {
   "cell_type": "code",
   "execution_count": 20,
   "metadata": {},
   "outputs": [
    {
     "name": "stdout",
     "output_type": "stream",
     "text": [
      "Optimal Value of C: 1.0\n",
      "Corresponding Val Score: 0.669\n",
      "Corresponding Train Score: 0.817\n"
     ]
    }
   ],
   "source": [
    "index_of_max = np.argmax(f1_val_avg)\n",
    "c_opt = c_values[index_of_max]\n",
    "\n",
    "print('Optimal Value of C: {}'.format(c_opt))\n",
    "print('Corresponding Val Score: {:.3f}'.format(f1_val_avg[index_of_max]))\n",
    "print('Corresponding Train Score: {:.3f}'.format(f1_train_avg[index_of_max]))"
   ]
  },
  {
   "cell_type": "markdown",
   "metadata": {},
   "source": [
    " - This value was found by findning the maximum index value for the validation f1 score.\n",
    " - C represents the inverse regularisation score, that is lower numbers correpsond to higher regularisation. \n",
    " - Regulariation is in place to penalise more complex models, to prevent overfitting the data. \n",
    " - At very low values of C, high regularisation, we see that the models that we allows the alogorithm to produce are too simple to capture relevent details within our data and we end up with low F1 scores. As we slowly alleviate this regularisation, the models complexity can grow and start to capture more details and connections within our data. If while we do this the scores for both out validation and training sets go up, we can justify that the training data is not yet becomeing overfit and we can continue to reduce regularisation. At a point our validation and trianing curves start to deviate as we become better at fitting the training data that the validation data. This marks the start of overfitting and if allowed to continue by reducing regularisation further, out training score becomes ever better, however the validation set score will stagnate/worsen and deviate further.\n",
    " - This optimal value of 1 is the default for the regressor "
   ]
  },
  {
   "cell_type": "markdown",
   "metadata": {},
   "source": [
    "### 3.7 Best Model"
   ]
  },
  {
   "cell_type": "code",
   "execution_count": 21,
   "metadata": {},
   "outputs": [
    {
     "name": "stdout",
     "output_type": "stream",
     "text": [
      "Best F1 Score: 0.675\n"
     ]
    }
   ],
   "source": [
    "best_log = LogisticRegression(solver='lbfgs', multi_class='multinomial', random_state=0, C = c_opt, max_iter = 200)\n",
    "best_log.fit(X, y)\n",
    "\n",
    "y_pred = best_log.predict(X_test)\n",
    "best_f1 = f1_score(y_test, y_pred, average = 'macro')\n",
    "\n",
    "print('Best F1 Score: {:.3f}'.format(best_f1))"
   ]
  },
  {
   "cell_type": "markdown",
   "metadata": {},
   "source": [
    "## 4.Hierarchical Classification"
   ]
  },
  {
   "cell_type": "code",
   "execution_count": 22,
   "metadata": {},
   "outputs": [],
   "source": [
    "#Data Loading \n",
    "data_path_hier = os.path.join(os.getcwd(), 'Data', 'PartA', '20ng_train_hierarchical.csv')\n",
    "ng_hier = pd.read_csv(data_path_hier, delimiter = ',', header = 0, compression = 'bz2')"
   ]
  },
  {
   "cell_type": "code",
   "execution_count": 23,
   "metadata": {},
   "outputs": [
    {
     "name": "stdout",
     "output_type": "stream",
     "text": [
      "Nrows: 5648\n",
      "NCols: 1002\n",
      "X_hier: (5648, 1000)\n",
      "y_hier: (5648,)\n"
     ]
    }
   ],
   "source": [
    "print('Nrows: {}'.format(ng_hier.shape[0]))\n",
    "print('NCols: {}'.format(ng_hier.shape[1]))\n",
    "\n",
    "X_hier = (ng_hier.drop(['class', 'super'], axis = 1)).values\n",
    "y_hier = (ng_hier['super']).values\n",
    "\n",
    "print('X_hier: {}'.format(X_hier.shape))\n",
    "print('y_hier: {}'.format(y_hier.shape))"
   ]
  },
  {
   "cell_type": "markdown",
   "metadata": {},
   "source": [
    "### 4.1 Feature Selection"
   ]
  },
  {
   "cell_type": "markdown",
   "metadata": {},
   "source": [
    " - Hierarchical classifiction may benefit from more topic related words, where a topic is one of the 4 super groups.\n",
    " - Words that maybe relate to the full topic as opposed to individual article types\n",
    " - words such as belief, bible, algorithm, computers,bit, car, bike/bikes, christians, church\n",
    " - All of thse words can fairly easily be catagorised into one of the 4 super groups"
   ]
  },
  {
   "cell_type": "markdown",
   "metadata": {},
   "source": [
    "### 4.2 Hierarchical Logistic Training "
   ]
  },
  {
   "cell_type": "code",
   "execution_count": 24,
   "metadata": {},
   "outputs": [],
   "source": [
    "folds_hier = StratifiedKFold(n_splits=10, shuffle=True, random_state=0)\n",
    "\n",
    "c_values = np.logspace(-4, 5, 19)\n",
    "f1_val_avg_h = []\n",
    "f1_train_avg_h = []\n",
    "\n",
    "for i in c_values:\n",
    "    val_scores = []\n",
    "    train_scores = []\n",
    "    \n",
    "    for train_index, val_index in folds.split(X_hier, y_hier):\n",
    "        X_train, X_val = X_hier[train_index], X_hier[val_index]\n",
    "        y_train, y_val = y_hier[train_index], y_hier[val_index]\n",
    "\n",
    "        logR = LogisticRegression(solver='lbfgs', multi_class='multinomial', random_state=0, C = i, max_iter = 200)\n",
    "        logR.fit(X_train, y_train)\n",
    "\n",
    "        log_pred_train = logR.predict(X_train)\n",
    "        f1_score_train = f1_score(y_train, log_pred_train, average = 'macro')\n",
    "\n",
    "        log_pred_val = logR.predict(X_val)\n",
    "        f1_score_val = f1_score(y_val, log_pred_val, average = 'macro')\n",
    "\n",
    "        val_scores.append(f1_score_val)\n",
    "        train_scores.append(f1_score_train)\n",
    "    \n",
    "    f1_val_avg_h.append(np.mean(val_scores))\n",
    "    f1_train_avg_h.append(np.mean(train_scores))\n"
   ]
  },
  {
   "cell_type": "code",
   "execution_count": 25,
   "metadata": {},
   "outputs": [
    {
     "data": {
      "image/png": "[encoded data removed]",
      "text/plain": [
       "<Figure size 432x288 with 1 Axes>"
      ]
     },
     "metadata": {
      "needs_background": "light"
     },
     "output_type": "display_data"
    }
   ],
   "source": [
    "plt.plot(c_values, f1_val_avg_h)\n",
    "plt.plot(c_values, f1_train_avg_h)\n",
    "plt.xscale('log')\n",
    "plt.legend(['Validation Set', 'Training Set'], loc='upper left')\n",
    "plt.xlabel('C Value (log scale)')\n",
    "plt.ylabel('Average F1 score over all folds')\n",
    "plt.title('F1 Scores as function of C')\n",
    "plt.show()"
   ]
  },
  {
   "cell_type": "code",
   "execution_count": 26,
   "metadata": {},
   "outputs": [
    {
     "name": "stdout",
     "output_type": "stream",
     "text": [
      "Optimal Value of C: 0.316\n",
      "Corresponding Val Score: 0.827\n",
      "Corresponding Train Score: 0.870\n"
     ]
    }
   ],
   "source": [
    "index_of_max_h = np.argmax(f1_val_avg_h)\n",
    "c_opt_h = c_values[index_of_max_h]\n",
    "\n",
    "print('Optimal Value of C: {:.3f}'.format(c_opt_h))\n",
    "print('Corresponding Val Score: {:.3f}'.format(f1_val_avg_h[index_of_max_h]))\n",
    "print('Corresponding Train Score: {:.3f}'.format(f1_train_avg_h[index_of_max_h]))"
   ]
  },
  {
   "cell_type": "code",
   "execution_count": 27,
   "metadata": {},
   "outputs": [
    {
     "name": "stdout",
     "output_type": "stream",
     "text": [
      "Best F1 Score: 0.869\n"
     ]
    }
   ],
   "source": [
    "best_h = LogisticRegression(solver='lbfgs', multi_class='multinomial', random_state=0, C = c_opt_h, max_iter = 200)\n",
    "best_h.fit(X_hier, y_hier)\n",
    "\n",
    "y_pred_h = best_h.predict(X_hier)\n",
    "best_f1_h = f1_score(y_hier, y_pred_h, average = 'macro')\n",
    "\n",
    "print('Best F1 Score: {:.3f}'.format(best_f1_h))\n"
   ]
  },
  {
   "cell_type": "markdown",
   "metadata": {},
   "source": [
    " - Yes we can compare the F1 score and can say that the prediction of super labels seems to be better than prediction over the full set of 8 labels."
   ]
  },
  {
   "cell_type": "markdown",
   "metadata": {},
   "source": [
    "### 4.3 Binary Classifiers Theory"
   ]
  },
  {
   "cell_type": "markdown",
   "metadata": {},
   "source": [
    " - We should use the true super class labels and not the ones predicted above as some have been incorrectly classified and so when going to binary classification on all 4 classes, we would be trying to predict one of two classes for a dat point that maybe shiuldnt be there at all, which makes it an outlier."
   ]
  },
  {
   "cell_type": "markdown",
   "metadata": {},
   "source": [
    "### 4.4 Binary Classifiers"
   ]
  },
  {
   "cell_type": "code",
   "execution_count": 114,
   "metadata": {},
   "outputs": [
    {
     "data": {
      "image/png": "[encoded data removed]",
      "text/plain": [
       "<Figure size 432x288 with 1 Axes>"
      ]
     },
     "metadata": {
      "needs_background": "light"
     },
     "output_type": "display_data"
    },
    {
     "data": {
      "image/png": "[encoded data removed]",
      "text/plain": [
       "<Figure size 432x288 with 1 Axes>"
      ]
     },
     "metadata": {
      "needs_background": "light"
     },
     "output_type": "display_data"
    },
    {
     "data": {
      "image/png": "[encoded data removed]",
      "text/plain": [
       "<Figure size 432x288 with 1 Axes>"
      ]
     },
     "metadata": {
      "needs_background": "light"
     },
     "output_type": "display_data"
    },
    {
     "data": {
      "image/png": "[encoded data removed]",
      "text/plain": [
       "<Figure size 432x288 with 1 Axes>"
      ]
     },
     "metadata": {
      "needs_background": "light"
     },
     "output_type": "display_data"
    }
   ],
   "source": [
    "new_folds = StratifiedKFold(n_splits=10, shuffle=True, random_state=0)\n",
    "super_groups = [0,1,2,3]\n",
    "best_binaries = []\n",
    "\n",
    "c_optimals = []\n",
    "f1_optimals = []\n",
    "\n",
    "for i in super_groups:\n",
    "    #New data Management\n",
    "    new_data_frame = ng_hier[ng_hier['super'] == i]\n",
    "    X_aye = (new_data_frame.drop(['class','super'], axis = 1)).values\n",
    "    y_aye = (new_data_frame['class']).values\n",
    "    \n",
    "    f1_val_avg_h = []\n",
    "    f1_train_avg_h = []\n",
    "\n",
    "    for i in c_values:\n",
    "        val_scores = []\n",
    "        train_scores = []\n",
    "\n",
    "        for train_index, val_index in new_folds.split(X_aye, y_aye):\n",
    "            X_train, X_val = X_aye[train_index], X_aye[val_index]\n",
    "            y_train, y_val = y_aye[train_index], y_aye[val_index]\n",
    "\n",
    "            logR = LogisticRegression(solver='lbfgs', multi_class='ovr', random_state=0, C = i, max_iter = 200)\n",
    "            logR.fit(X_train, y_train)\n",
    "\n",
    "            log_pred_train = logR.predict(X_train)\n",
    "            f1_score_train = f1_score(y_train, log_pred_train, average = 'macro')\n",
    "\n",
    "            log_pred_val = logR.predict(X_val)\n",
    "            f1_score_val = f1_score(y_val, log_pred_val, average = 'macro')\n",
    "\n",
    "            val_scores.append(f1_score_val)\n",
    "            train_scores.append(f1_score_train)\n",
    "\n",
    "        f1_val_avg_h.append(np.mean(val_scores))\n",
    "        f1_train_avg_h.append(np.mean(train_scores))\n",
    "\n",
    "    plt.plot(c_values, f1_val_avg_h)\n",
    "    plt.plot(c_values, f1_train_avg_h)\n",
    "    plt.xscale('log')\n",
    "    plt.legend(['Validation Set', 'Training Set'], loc='upper left')\n",
    "    plt.xlabel('C Value (log scale)')\n",
    "    plt.ylabel('Average F1 score over all folds')\n",
    "    plt.title('F1 Scores as function of C')\n",
    "    plt.show()\n",
    "    \n",
    "    index = np.argmax(f1_val_avg_h)\n",
    "    c_opt_h = c_values[index]\n",
    "    best_f1_new = f1_val_avg_h[index]\n",
    "    \n",
    "    c_optimals.append(c_opt_h)\n",
    "    f1_optimals.append(best_f1_new)\n",
    "    \n",
    "    best_for_group = LogisticRegression(solver='lbfgs', multi_class='ovr', random_state=0, C = c_opt_h, max_iter = 200)\n",
    "    best_for_group.fit(X_aye, y_aye)\n",
    "    \n",
    "    best_binaries.append(best_for_group)\n",
    "    \n",
    "    "
   ]
  },
  {
   "cell_type": "code",
   "execution_count": 143,
   "metadata": {},
   "outputs": [
    {
     "name": "stdout",
     "output_type": "stream",
     "text": [
      "\\begin{tabular}{lrrr}\n",
      "\\toprule\n",
      "{} &  Super Group &  Optimal C Parameters &  Associated F1 Scores \\\\\n",
      "\\midrule\n",
      "0 &            0 &                1.0000 &                0.7998 \\\\\n",
      "1 &            1 &                1.0000 &                0.7891 \\\\\n",
      "2 &            2 &                3.1623 &                0.8842 \\\\\n",
      "3 &            3 &                3.1623 &                0.7050 \\\\\n",
      "\\bottomrule\n",
      "\\end{tabular}\n",
      "\n"
     ]
    }
   ],
   "source": [
    "df_dict = {'Optimal C Parameters':c_optimals, 'Associated F1 Scores':f1_optimals, 'Super Group': super_groups}\n",
    "\n",
    "optimal_df = pd.DataFrame(df_dict, columns = ['Super Group', 'Optimal C Parameters','Associated F1 Scores' ])\n",
    "#optimal_df = optimal_df.set_index('Super Group')\n",
    "optimal_df = optimal_df.round(4)\n",
    "print(optimal_df.to_latex())"
   ]
  },
  {
   "cell_type": "markdown",
   "metadata": {},
   "source": [
    "### 4.6 Hierarchical Classification"
   ]
  },
  {
   "cell_type": "markdown",
   "metadata": {},
   "source": [
    " - We are using test data for predictions\n",
    " - Want to train the group level classifier\n",
    " - Make predictions on this level\n",
    " - Put classes back with data\n",
    " - filter data based on these preidctions and indicies\n",
    " - Pass to individual pre-trained binary classifiers which are the best trianed on all data available to each of them\n",
    " - compare final f1 score(average) to the one with one layer  "
   ]
  },
  {
   "cell_type": "code",
   "execution_count": 116,
   "metadata": {},
   "outputs": [
    {
     "name": "stdout",
     "output_type": "stream",
     "text": [
      "LogisticRegression(C=0.31622776601683794, class_weight=None, dual=False,\n",
      "                   fit_intercept=True, intercept_scaling=1, l1_ratio=None,\n",
      "                   max_iter=200, multi_class='multinomial', n_jobs=None,\n",
      "                   penalty='l2', random_state=0, solver='lbfgs', tol=0.0001,\n",
      "                   verbose=0, warm_start=False)\n",
      "[LogisticRegression(C=1.0, class_weight=None, dual=False, fit_intercept=True,\n",
      "                   intercept_scaling=1, l1_ratio=None, max_iter=200,\n",
      "                   multi_class='ovr', n_jobs=None, penalty='l2', random_state=0,\n",
      "                   solver='lbfgs', tol=0.0001, verbose=0, warm_start=False), LogisticRegression(C=1.0, class_weight=None, dual=False, fit_intercept=True,\n",
      "                   intercept_scaling=1, l1_ratio=None, max_iter=200,\n",
      "                   multi_class='ovr', n_jobs=None, penalty='l2', random_state=0,\n",
      "                   solver='lbfgs', tol=0.0001, verbose=0, warm_start=False), LogisticRegression(C=3.1622776601683795, class_weight=None, dual=False,\n",
      "                   fit_intercept=True, intercept_scaling=1, l1_ratio=None,\n",
      "                   max_iter=200, multi_class='ovr', n_jobs=None, penalty='l2',\n",
      "                   random_state=0, solver='lbfgs', tol=0.0001, verbose=0,\n",
      "                   warm_start=False), LogisticRegression(C=3.1622776601683795, class_weight=None, dual=False,\n",
      "                   fit_intercept=True, intercept_scaling=1, l1_ratio=None,\n",
      "                   max_iter=200, multi_class='ovr', n_jobs=None, penalty='l2',\n",
      "                   random_state=0, solver='lbfgs', tol=0.0001, verbose=0,\n",
      "                   warm_start=False)]\n"
     ]
    }
   ],
   "source": [
    "#Group level and prdictions\n",
    "print(best_h)\n",
    "print(best_binaries)\n",
    "columns = test_data.columns\n",
    "\n",
    "test_data = ng_test\n",
    "\n",
    "test_X = (test_data.drop('class', axis = 1)).values\n",
    "test_y = (test_data['class']).values\n",
    "\n",
    "pred_super = best_h.predict(test_X)\n"
   ]
  },
  {
   "cell_type": "code",
   "execution_count": 117,
   "metadata": {},
   "outputs": [],
   "source": [
    "#Recombining data \n",
    "\n",
    "group_0 = []\n",
    "group_1 = []\n",
    "group_2 = []\n",
    "group_3 = []\n",
    "\n",
    "index_0 = []\n",
    "index_1 = []\n",
    "index_2 = []\n",
    "index_3 = []\n",
    "\n",
    "for i in range(0, len(pred_super)):\n",
    "    if pred_super[i] ==0:\n",
    "        group_0.append(test_X[i])\n",
    "        index_0.append(i)\n",
    "        \n",
    "    if pred_super[i] ==1:\n",
    "        group_1.append(test_X[i])\n",
    "        index_1.append(i)\n",
    "        \n",
    "    if pred_super[i] ==2:\n",
    "        group_2.append(test_X[i])\n",
    "        index_2.append(i)\n",
    "        \n",
    "    if pred_super[i] ==3:\n",
    "        group_3.append(test_X[i])\n",
    "        index_3.append(i)\n",
    "        \n",
    "group_0 = np.array(group_0)\n",
    "group_1 = np.array(group_1)\n",
    "group_2 = np.array(group_2)\n",
    "group_3 = np.array(group_3)\n",
    "\n",
    "\n",
    "full_data = [group_0, group_1, group_2, group_3]\n",
    "full_index = [index_0, index_1, index_2, index_3]"
   ]
  },
  {
   "cell_type": "code",
   "execution_count": 136,
   "metadata": {},
   "outputs": [
    {
     "name": "stdout",
     "output_type": "stream",
     "text": [
      "              precision    recall  f1-score   support\n",
      "\n",
      "           0       0.74      0.83      0.78       218\n",
      "           1       0.70      0.86      0.77       187\n",
      "           2       0.00      0.00      0.00         8\n",
      "           3       0.00      0.00      0.00         8\n",
      "           4       0.00      0.00      0.00         7\n",
      "           5       0.00      0.00      0.00        41\n",
      "           6       0.00      0.00      0.00         1\n",
      "           7       0.00      0.00      0.00         1\n",
      "\n",
      "    accuracy                           0.72       471\n",
      "   macro avg       0.18      0.21      0.19       471\n",
      "weighted avg       0.62      0.72      0.67       471\n",
      "\n",
      "              precision    recall  f1-score   support\n",
      "\n",
      "           0       0.00      0.00      0.00         9\n",
      "           1       0.00      0.00      0.00        23\n",
      "           2       0.57      0.85      0.68       217\n",
      "           3       0.69      0.79      0.73       219\n",
      "           4       0.00      0.00      0.00        26\n",
      "           5       0.00      0.00      0.00        36\n",
      "           6       0.00      0.00      0.00        20\n",
      "           7       0.00      0.00      0.00        25\n",
      "\n",
      "    accuracy                           0.62       575\n",
      "   macro avg       0.16      0.20      0.18       575\n",
      "weighted avg       0.48      0.62      0.54       575\n",
      "\n",
      "              precision    recall  f1-score   support\n",
      "\n",
      "           0       0.00      0.00      0.00        18\n",
      "           1       0.00      0.00      0.00        27\n",
      "           2       0.00      0.00      0.00        21\n",
      "           3       0.00      0.00      0.00        16\n",
      "           4       0.84      0.91      0.88       211\n",
      "           5       0.62      0.93      0.75       167\n",
      "           6       0.00      0.00      0.00         8\n",
      "           7       0.00      0.00      0.00        11\n",
      "\n",
      "    accuracy                           0.73       479\n",
      "   macro avg       0.18      0.23      0.20       479\n",
      "weighted avg       0.59      0.73      0.65       479\n",
      "\n",
      "              precision    recall  f1-score   support\n",
      "\n",
      "           1       0.00      0.00      0.00         4\n",
      "           2       0.00      0.00      0.00         2\n",
      "           3       0.00      0.00      0.00         6\n",
      "           4       0.00      0.00      0.00         4\n",
      "           5       0.00      0.00      0.00         2\n",
      "           6       0.73      0.85      0.79       220\n",
      "           7       0.60      0.51      0.55       120\n",
      "\n",
      "    accuracy                           0.70       358\n",
      "   macro avg       0.19      0.19      0.19       358\n",
      "weighted avg       0.65      0.70      0.67       358\n",
      "\n",
      "8\n",
      "0.74125\n"
     ]
    }
   ],
   "source": [
    "#Filter Data \n",
    "#true_0 = test_y[full_index[0]]\n",
    "f1_scores = []\n",
    "for i in range(0,4):\n",
    "    object_to_use = best_binaries[i]\n",
    "    data = full_data[i]\n",
    "    index = full_index[i]\n",
    "    \n",
    "    predictions = object_to_use.predict(data)\n",
    "    y_true = test_y[index]\n",
    "    score = f1_score(y_true, predictions, average = 'macro')\n",
    "    print(classification_report(y_true, predictions))\n",
    "    f1_scores.append(score)\n",
    "list_as_given = [0.78,0.77,0.68,0.73,0.88,0.75,0.79,0.55]\n",
    "print(len(list_as_given))\n",
    "print(np.mean(list_as_given))"
   ]
  },
  {
   "cell_type": "code",
   "execution_count": 122,
   "metadata": {},
   "outputs": [
    {
     "name": "stdout",
     "output_type": "stream",
     "text": [
      "0.1915491065338925\n"
     ]
    }
   ],
   "source": [
    "print(np.mean(f1_scores))"
   ]
  },
  {
   "cell_type": "code",
   "execution_count": null,
   "metadata": {},
   "outputs": [],
   "source": []
  }
 ],
 "metadata": {
  "kernelspec": {
   "display_name": "Python 3",
   "language": "python",
   "name": "python3"
  },
  "language_info": {
   "codemirror_mode": {
    "name": "ipython",
    "version": 3
   },
   "file_extension": ".py",
   "mimetype": "text/x-python",
   "name": "python",
   "nbconvert_exporter": "python",
   "pygments_lexer": "ipython3",
   "version": "3.7.0"
  }
 },
 "nbformat": 4,
 "nbformat_minor": 2
}
